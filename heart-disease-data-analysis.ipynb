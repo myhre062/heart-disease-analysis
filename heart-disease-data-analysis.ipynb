{
 "cells": [
  {
   "cell_type": "code",
   "execution_count": null,
   "metadata": {},
   "outputs": [],
   "source": [
    "from pathlib import Path\n",
    "import pandas as pd\n",
    "import matplotlib.pyplot as plt\n",
    "import scipy.stats as stats\n",
    "\n",
    "\n",
    "csv_file = Path('Resources/framingham.csv')\n",
    "\n",
    "heart_analysis_df = pd.read_csv(csv_file)\n",
    "\n",
    "heart_analysis_df"
   ]
  },
  {
   "cell_type": "markdown",
   "metadata": {},
   "source": [
    "## Male vs Female Population\n",
    "\n",
    "### Analysis:"
   ]
  },
  {
   "cell_type": "code",
   "execution_count": null,
   "metadata": {},
   "outputs": [],
   "source": [
    "male_count = (heart_analysis_df['male'] == 1).sum()\n",
    "female_count = (heart_analysis_df['male'] == 0).sum()\n",
    "print(f'males: {male_count}')\n",
    "print(f'females: {female_count}')\n",
    "print(f'total population: {male_count+female_count}')\n",
    "labels = ['female', 'male']\n",
    "sizes = [female_count, male_count]\n",
    "sex_population_df = pd.DataFrame({'Sex': labels, 'Count': sizes})\n",
    "sex_population_df.plot.pie(y='Count', labels=sex_population_df['Sex'], autopct='%1.1f%%', legend=False)\n",
    "plt.title('Distribution of Male and Female')\n",
    "plt.show()"
   ]
  },
  {
   "cell_type": "code",
   "execution_count": null,
   "metadata": {},
   "outputs": [],
   "source": [
    "diabetes_count = (heart_analysis_df['diabetes'] == 1).sum()\n",
    "non_diabetes_count = (heart_analysis_df['diabetes'] == 0).sum()\n",
    "print(f'Diabetes: {diabetes_count}')\n",
    "print(f'Non-diabetic: {non_diabetes_count}')\n",
    "print(f'Total population: {diabetes_count+non_diabetes_count}')\n",
    "labels = ['Diabetes', 'Non-diabetic']\n",
    "sizes = [diabetes_count, non_diabetes_count]\n",
    "diabetes_population_df = pd.DataFrame({'diabetes': labels, 'Count': sizes})\n",
    "diabetes_population_df.plot.pie(y='Count', labels=diabetes_population_df['diabetes'], autopct='%1.1f%%', legend=False, startangle=90)\n",
    "plt.title('Distribution of Diabetes and Non-diabetic')\n",
    "plt.show()"
   ]
  },
  {
   "cell_type": "code",
   "execution_count": null,
   "metadata": {},
   "outputs": [],
   "source": [
    "contingency_table = pd.crosstab(heart_analysis_df['diabetes'], heart_analysis_df['TenYearCHD'])\n",
    "\n",
    "# Perform the Chi-square test\n",
    "chi2, p_value, dof, expected = stats.chi2_contingency(contingency_table)\n",
    "\n",
    "# Output the results\n",
    "print(f\"Chi-square statistic: {chi2}\")\n",
    "print(f\"P-value: {p_value}\")\n",
    "print(f\"Degrees of freedom: {dof}\")\n",
    "print(f\"Expected frequencies:\\n{expected}\")"
   ]
  },
  {
   "cell_type": "code",
   "execution_count": null,
   "metadata": {},
   "outputs": [],
   "source": [
    "smoker_count = (heart_analysis_df['currentSmoker'] == 1).sum()\n",
    "non_smoker_count = (heart_analysis_df['currentSmoker'] == 0).sum()\n",
    "print(f'Diabetes: {smoker_count}')\n",
    "print(f'Non-diabetic: {non_smoker_count}')\n",
    "print(f'Total population: {smoker_count+non_smoker_count}')\n",
    "labels = ['Smoker', 'Non-smoker']\n",
    "sizes = [smoker_count, non_smoker_count]\n",
    "smoker_population_df = pd.DataFrame({'currentSmoker': labels, 'Count': sizes})\n",
    "smoker_population_df.plot.pie(y='Count', labels=smoker_population_df['currentSmoker'], autopct='%1.1f%%', legend=False)\n",
    "plt.title('Distribution of Smoker and Non-Smoker')\n",
    "plt.show()"
   ]
  },
  {
   "cell_type": "code",
   "execution_count": null,
   "metadata": {},
   "outputs": [],
   "source": [
    "male_df = heart_analysis_df[heart_analysis_df['male'] == 1]\n",
    "smoker_count = (male_df['currentSmoker'] == 1).sum()\n",
    "non_smoker_count = (male_df['currentSmoker'] == 0).sum()\n",
    "print(f'Diabetes: {smoker_count}')\n",
    "print(f'Non-diabetic: {non_smoker_count}')\n",
    "print(f'Total population: {smoker_count+non_smoker_count}')\n",
    "labels = ['Smoker', 'Non-smoker']\n",
    "sizes = [smoker_count, non_smoker_count]\n",
    "smoker_population_df = pd.DataFrame({'currentSmoker': labels, 'Count': sizes})\n",
    "smoker_population_df.plot.pie(y='Count', labels=smoker_population_df['currentSmoker'], autopct='%1.1f%%', legend=False)\n",
    "plt.title('Male Distribution of Smoker and Non-Smoker')\n",
    "plt.show()"
   ]
  },
  {
   "cell_type": "code",
   "execution_count": null,
   "metadata": {},
   "outputs": [],
   "source": [
    "female_df = heart_analysis_df[heart_analysis_df['male'] == 0]\n",
    "smoker_count = (female_df['currentSmoker'] == 1).sum()\n",
    "non_smoker_count = (female_df['currentSmoker'] == 0).sum()\n",
    "print(f'Diabetes: {smoker_count}')\n",
    "print(f'Non-diabetic: {non_smoker_count}')\n",
    "print(f'Total population: {smoker_count+non_smoker_count}')\n",
    "labels = ['Smoker', 'Non-smoker']\n",
    "sizes = [smoker_count, non_smoker_count]\n",
    "smoker_population_df = pd.DataFrame({'currentSmoker': labels, 'Count': sizes})\n",
    "smoker_population_df.plot.pie(y='Count', labels=smoker_population_df['currentSmoker'], autopct='%1.1f%%', legend=False)\n",
    "plt.title('Female Distribution of Smoker and Non-Smoker')\n",
    "plt.show()"
   ]
  },
  {
   "cell_type": "code",
   "execution_count": null,
   "metadata": {},
   "outputs": [],
   "source": [
    "\n",
    "education_counts_df = heart_analysis_df\n",
    "\n",
    "education_counts_df['education'] = education_counts_df['education'].astype(str)\n",
    "\n",
    "education_counts_df['education'] = education_counts_df['education'].replace('nan', 'Not Specified')\n",
    "\n",
    "education_counts_df = education_counts_df['education'].value_counts().sort_index()\n",
    "\n",
    "education_counts_df.plot(kind='bar')\n",
    "plt.title('Education Level Distribution')\n",
    "plt.xlabel('Education Level')\n",
    "plt.ylabel('Number of Individuals')\n",
    "plt.xticks(rotation=0) \n",
    "plt.show()"
   ]
  },
  {
   "cell_type": "code",
   "execution_count": null,
   "metadata": {},
   "outputs": [],
   "source": [
    "# Create a histogram for the age distribution\n",
    "age_histogram = heart_analysis_df\n",
    "plt.hist(age_histogram['age'], bins=10, edgecolor='black') \n",
    "plt.title('Age Histogram')\n",
    "plt.xlabel('Age')\n",
    "plt.ylabel('Number of people')\n",
    "plt.grid(axis='y', alpha=0.75) \n",
    "\n",
    "plt.show()"
   ]
  },
  {
   "cell_type": "code",
   "execution_count": null,
   "metadata": {},
   "outputs": [],
   "source": [
    "number_of_male_TYCHD = male_df[male_df['TenYearCHD'] == 1]['TenYearCHD'].sum()\n",
    "number_of_female_TYCHD = female_df[female_df['TenYearCHD'] == 1]['TenYearCHD'].sum()\n",
    "\n",
    "male_percentage = round((number_of_male_TYCHD/male_df[\"TenYearCHD\"].count()) * 100, 2)\n",
    "female_percentage = round((number_of_female_TYCHD/female_df[\"TenYearCHD\"].count()) * 100, 2)\n",
    "\n",
    "print(f'Male % of heart disease: {male_percentage}%')\n",
    "print(f'Female % of heart disease: {female_percentage}%')"
   ]
  },
  {
   "cell_type": "markdown",
   "metadata": {},
   "source": [
    "## Atuls's Section"
   ]
  },
  {
   "cell_type": "code",
   "execution_count": null,
   "metadata": {},
   "outputs": [],
   "source": [
    "print('This is your teammates Atul\\'s Section')"
   ]
  },
  {
   "cell_type": "code",
   "execution_count": null,
   "metadata": {},
   "outputs": [],
   "source": []
  },
  {
   "cell_type": "code",
   "execution_count": null,
   "metadata": {},
   "outputs": [],
   "source": []
  },
  {
   "cell_type": "code",
   "execution_count": null,
   "metadata": {},
   "outputs": [],
   "source": []
  },
  {
   "cell_type": "code",
   "execution_count": null,
   "metadata": {},
   "outputs": [],
   "source": []
  },
  {
   "cell_type": "code",
   "execution_count": null,
   "metadata": {},
   "outputs": [],
   "source": []
  },
  {
   "cell_type": "code",
   "execution_count": null,
   "metadata": {},
   "outputs": [],
   "source": []
  },
  {
   "cell_type": "code",
   "execution_count": null,
   "metadata": {},
   "outputs": [],
   "source": []
  },
  {
   "cell_type": "code",
   "execution_count": null,
   "metadata": {},
   "outputs": [],
   "source": []
  },
  {
   "cell_type": "code",
   "execution_count": null,
   "metadata": {},
   "outputs": [],
   "source": []
  },
  {
   "cell_type": "code",
   "execution_count": null,
   "metadata": {},
   "outputs": [],
   "source": []
  },
  {
   "cell_type": "markdown",
   "metadata": {},
   "source": [
    "## Ezrelle's Section"
   ]
  },
  {
   "cell_type": "code",
   "execution_count": null,
   "metadata": {},
   "outputs": [],
   "source": [
    "import numpy as np\n",
    "# Generate some random data\n",
    "data = {'x': np.random.rand(10),\n",
    "        'y': np.random.rand(10)}\n",
    "df = pd.DataFrame(data)\n",
    "\n",
    "# Plot the data\n",
    "plt.scatter(df['x'], df['y'])\n",
    "\n",
    "# Coordinates where you want to place the plus sign\n",
    "plus_x, plus_y = 0.5, 0.5 # Adjust these values as needed\n",
    "\n",
    "# Plotting the plus sign\n",
    "plt.plot(plus_x, plus_y, marker='+', markersize=20, color='red')\n",
    "\n",
    "# Display the plot\n",
    "plt.show()"
   ]
  },
  {
   "cell_type": "code",
   "execution_count": null,
   "metadata": {},
   "outputs": [],
   "source": []
  },
  {
   "cell_type": "code",
   "execution_count": null,
   "metadata": {},
   "outputs": [],
   "source": []
  },
  {
   "cell_type": "code",
   "execution_count": null,
   "metadata": {},
   "outputs": [],
   "source": []
  },
  {
   "cell_type": "code",
   "execution_count": null,
   "metadata": {},
   "outputs": [],
   "source": []
  },
  {
   "cell_type": "code",
   "execution_count": null,
   "metadata": {},
   "outputs": [],
   "source": []
  },
  {
   "cell_type": "code",
   "execution_count": null,
   "metadata": {},
   "outputs": [],
   "source": []
  },
  {
   "cell_type": "code",
   "execution_count": null,
   "metadata": {},
   "outputs": [],
   "source": []
  },
  {
   "cell_type": "code",
   "execution_count": null,
   "metadata": {},
   "outputs": [],
   "source": []
  },
  {
   "cell_type": "code",
   "execution_count": null,
   "metadata": {},
   "outputs": [],
   "source": []
  },
  {
   "cell_type": "code",
   "execution_count": null,
   "metadata": {},
   "outputs": [],
   "source": []
  },
  {
   "cell_type": "markdown",
   "metadata": {},
   "source": [
    "## Indu's Section"
   ]
  },
  {
   "cell_type": "code",
   "execution_count": null,
   "metadata": {},
   "outputs": [],
   "source": [
    "print('This is your teammates Indu\\'s Section')"
   ]
  },
  {
   "cell_type": "code",
   "execution_count": null,
   "metadata": {},
   "outputs": [],
   "source": []
  },
  {
   "cell_type": "code",
   "execution_count": null,
   "metadata": {},
   "outputs": [],
   "source": []
  },
  {
   "cell_type": "code",
   "execution_count": null,
   "metadata": {},
   "outputs": [],
   "source": []
  },
  {
   "cell_type": "code",
   "execution_count": null,
   "metadata": {},
   "outputs": [],
   "source": []
  },
  {
   "cell_type": "code",
   "execution_count": null,
   "metadata": {},
   "outputs": [],
   "source": []
  },
  {
   "cell_type": "code",
   "execution_count": null,
   "metadata": {},
   "outputs": [],
   "source": []
  },
  {
   "cell_type": "code",
   "execution_count": null,
   "metadata": {},
   "outputs": [],
   "source": []
  },
  {
   "cell_type": "code",
   "execution_count": null,
   "metadata": {},
   "outputs": [],
   "source": []
  },
  {
   "cell_type": "code",
   "execution_count": null,
   "metadata": {},
   "outputs": [],
   "source": []
  },
  {
   "cell_type": "code",
   "execution_count": null,
   "metadata": {},
   "outputs": [],
   "source": []
  },
  {
   "cell_type": "markdown",
   "metadata": {},
   "source": [
    "## Tianyue's Section\n",
    "Focus: Evaluate the impact of PrevalentStroke, PrevalentHyp towards heart disease "
   ]
  },
  {
   "cell_type": "code",
   "execution_count": null,
   "metadata": {},
   "outputs": [],
   "source": [
    "print('This is your teammates Tianyue's Section')"
   ]
  },
  {
   "cell_type": "code",
   "execution_count": null,
   "metadata": {},
   "outputs": [],
   "source": [
    "heart_analysis_df"
   ]
  },
  {
   "cell_type": "code",
   "execution_count": null,
   "metadata": {},
   "outputs": [],
   "source": [
    "# Relation between Prevalent Stroke to Heart Disease:\n",
    "labels = [\"Risk of Heart Disease in 10 Years\", \"No Risk of Heart Disease in 10 Years\"]\n",
    "\n",
    "prevalentStroke_df = heart_analysis_df[heart_analysis_df[\"prevalentStroke\"]==1]\n",
    "no_prevalentStroke_df = heart_analysis_df[heart_analysis_df[\"prevalentStroke\"]==0]\n",
    "\n",
    "sizes = [len(prevalentStroke_df), len(no_prevalentStroke_df)]\n",
    "\n",
    "# sizes = [prevalentStroke_df[\"prevalentStroke\"],no_prevalentStroke_df[\"prevalentStroke\"]]\n",
    "\n",
    "colors = [\"red\", \"orange\"]\n",
    "\n",
    "explode = (0.1, 0)\n",
    "\n",
    "plt.pie(sizes, explode=explode, labels=labels, colors=colors,\n",
    "        autopct=\"%1.1f%%\", shadow=True, startangle=140)\n",
    "plt.show()\n",
    "\n",
    "#  --------------------------\n",
    "\n",
    "# labels = [\"Prevalent Stroke\", \"No Prevalent Stroke\"]\n",
    "# prevalentStroke_df[\"TenYearCHD\"]\n",
    "# no_prevalentStroke_df[\"TenYearCHD\"]\n",
    "# sizes = [prevalentStroke_df[\"TenYearCHD\"],no_prevalentStroke_df[\"TenYearCHD\"]]\n",
    "\n",
    "# colors = [\"lightcoral\", \"lightskyblue\"]\n",
    "# explode = (0.1, 0)\n",
    "# plt.pie(sizes, explode=explode, labels=labels, colors=colors,\n",
    "#         autopct=\"%1.1f%%\", shadow=True, startangle=140)\n",
    "# plt.show()\n",
    "# -----------------------------\n",
    "# plt.hist(heart_analysis_df[\"prevalentStroke\"])\n",
    "\n",
    "# plt.scatter(heart_analysis_df[\"prevalentStroke\"],heart_analysis_df[\"TenYearCHD\"])\n",
    "# plt.scatter.(heart_analysis_df.iloc[:,1],heart_analysis_df.iloc[:,2])\n",
    "# plt.xlabel('Risk of Heart Disease in 10 Years')\n",
    "# plt.ylabel('Patients with Prevalent Stroke')\n",
    "# plt.show()"
   ]
  },
  {
   "cell_type": "code",
   "execution_count": null,
   "metadata": {},
   "outputs": [],
   "source": [
    "labels = [\"Prevalent Stroke\", \"No Prevalent Stroke\"]\n",
    "TenYearCHD_df = heart_analysis_df[heart_analysis_df[\"TenYearCHD\"]==1]\n",
    "no_TenYearCHD_df = heart_analysis_df[heart_analysis_df[\"TenYearCHD\"]==0]\n",
    "\n",
    "sizes = [len(TenYearCHD_df), len(no_TenYearCHD_df)]  # Use the lengths of the dataframes instead of the \"prevalentStroke\" column\n",
    "\n",
    "colors = [\"lightcoral\", \"lightskyblue\"]\n",
    "explode = (0.1, 0)\n",
    "plt.pie(sizes, explode=explode, labels=labels, colors=colors,\n",
    "        autopct=\"%1.1f%%\", shadow=True, startangle=140)\n",
    "plt.show()"
   ]
  },
  {
   "cell_type": "code",
   "execution_count": null,
   "metadata": {},
   "outputs": [],
   "source": [
    "# Combined analysis: Relation between Prevalent Stroke to Heart Disease:\n",
    "import seaborn as sns\n",
    "# ------------\n",
    "Summary_Stroke_df = heart_analysis_df[[\"prevalentStroke\"]]\n",
    "Summary_Heart_Disease_df = heart_analysis_df[[\"TenYearCHD\"]]\n",
    "\n",
    "# Drop rows with NaN values\n",
    "Summary_Stroke_df = Summary_Stroke_df.dropna()\n",
    "Summary_Heart_Disease_df = Summary_Heart_Disease_df.dropna()\n",
    "\n",
    "correlation_matrix = Summary_Stroke_df.corrwith(Summary_Heart_Disease_df)\n",
    "# correlation_matrix = correlation_matrix.squeeze()\n",
    "\n",
    "if correlation_matrix.isnull().all():\n",
    "    print(\"No valid correlation to visualize.\")\n",
    "else:\n",
    "    sns.heatmap(correlation_matrix.to_frame(), annot=True, cmap='coolwarm', vmin=-1, vmax=1)\n",
    "    plt.title('Correlation Heatmap')\n",
    "    plt.show()"
   ]
  },
  {
   "cell_type": "code",
   "execution_count": null,
   "metadata": {},
   "outputs": [],
   "source": [
    "# Impact of age on Stroke and TenYearCHD\n",
    "\n",
    "all_stroke_CHD_df = heart_analysis_df[['age', 'prevalentStroke', 'TenYearCHD']].groupby('age').sum()\n",
    "all_stroke_CHD_df\n",
    "\n",
    "\n",
    "# # Define the age ranges\n",
    "age_data = all_stroke_CHD_df.index.tolist()\n",
    "age_data\n",
    "\n",
    "age_range = [31,40,50,60,70]\n",
    "\n",
    "# # Create a new column 'Age Group' based on the age ranges\n",
    "all_stroke_CHD_df['Age Group'] = pd.cut(age_data, bins=age_range, labels=[\"31-40\", \"41-50\", \"51-60\", \"61-70\"])\n",
    "age_group_df = all_stroke_CHD_df.groupby(\"Age Group\").sum()\n",
    "age_group_df.head()\n",
    "\n",
    "group_chart = age_group_df.plot(kind=\"bar\", figsize=(6,8))\n",
    "group_chart\n",
    "plt.xlabel(\"Age Group\")\n",
    "plt.ylabel('Participant Condition')\n",
    "plt.title(\"Age | Stroke & Ten Year CHD\")\n",
    "plt.show() \n"
   ]
  },
  {
   "cell_type": "code",
   "execution_count": null,
   "metadata": {},
   "outputs": [],
   "source": [
    "# pie chart for impact of age on Stroke \n",
    "# and TenYearCHD\n",
    "\n",
    "# Labels for the sections of our pie chart\n",
    "labels = [\"31-40 Yr\", \"41-50 Yr\", \"51-60 Yr\", \"61-70 Yr\"]\n",
    "\n",
    "# The values of each section of the pie chart\n",
    "sizes = age_group_df.prevalentStroke\n",
    "\n",
    "# The colors of each section of the pie chart\n",
    "colors = [\"red\", \"orange\", \"lightcoral\", \"lightskyblue\"]\n",
    "\n",
    "# Tells matplotlib to separate the \"51-60 yr\" section from the others\n",
    "explode = (0, 0, 0.1, 0)\n",
    "\n",
    "# Creates the pie chart based upon the values above\n",
    "# Automatically finds the percentages of each part of the pie chart\n",
    "plt.pie(sizes, explode=explode, labels=labels, colors=colors,\n",
    "        autopct=\"%1.1f%%\", shadow=True, startangle=80)\n",
    "plt.title(\"Age & Prevalent Stroke\")\n",
    "plt.legend()\n",
    "plt.show()"
   ]
  },
  {
   "cell_type": "code",
   "execution_count": null,
   "metadata": {},
   "outputs": [],
   "source": [
    "# pie chart for impact of age on Stroke \n",
    "# and TenYearCHD\n",
    "\n",
    "# Labels for the sections of our pie chart\n",
    "labels = [\"31-40 Yr\", \"41-50 Yr\", \"51-60 Yr\", \"61-70 Yr\"]\n",
    "\n",
    "# The values of each section of the pie chart\n",
    "sizes = age_group_df.TenYearCHD\n",
    "\n",
    "# The colors of each section of the pie chart\n",
    "colors = [\"red\", \"orange\", \"lightcoral\", \"lightskyblue\"]\n",
    "\n",
    "# Tells matplotlib to separate the \"51-60 yr\" section from the others\n",
    "explode = (0, 0, 0.1, 0)\n",
    "\n",
    "# Creates the pie chart based upon the values above\n",
    "# Automatically finds the percentages of each part of the pie chart\n",
    "plt.pie(sizes, explode=explode, labels=labels, colors=colors,\n",
    "        autopct=\"%1.1f%%\", shadow=True, startangle=80)\n",
    "plt.title(\"Age & TenYearCHD\")\n",
    "plt.legend()\n",
    "plt.show()"
   ]
  },
  {
   "cell_type": "code",
   "execution_count": null,
   "metadata": {},
   "outputs": [],
   "source": [
    "heart_analysis_df"
   ]
  },
  {
   "cell_type": "code",
   "execution_count": null,
   "metadata": {},
   "outputs": [],
   "source": [
    "all_Hyp_CHD_df = heart_analysis_df[['age', 'prevalentHyp', 'TenYearCHD']].groupby('age').sum()\n",
    "all_Hyp_CHD_df\n",
    "\n",
    "\n",
    "# # Define the age ranges\n",
    "age_data = all_Hyp_CHD_df.index.tolist()\n",
    "age_data\n",
    "\n",
    "age_range = [31,40,50,60,70]\n",
    "\n",
    "# # Create a new column 'Age Group' based on the age ranges\n",
    "all_Hyp_CHD_df['Age Group'] = pd.cut(age_data, bins=age_range, labels=[\"31-40\", \"41-50\", \"51-60\", \"61-70\"])\n",
    "age_group_Hyp_df = all_Hyp_CHD_df.groupby(\"Age Group\").sum()\n",
    "age_group_Hyp_df.head()\n",
    "\n",
    "group_chart = age_group_Hyp_df.plot(kind=\"bar\", figsize=(6,8))\n",
    "group_chart\n",
    "plt.xlabel(\"Age Group\")\n",
    "plt.ylabel('Participant Condition')\n",
    "plt.title(\"Age | Hyp & Ten Year CHD\")\n",
    "plt.show() \n",
    "\n",
    "\n",
    "# T-test"
   ]
  },
  {
   "cell_type": "code",
   "execution_count": null,
   "metadata": {},
   "outputs": [],
   "source": [
    "# scatter plot\n",
    "heart_analysis_df = heart_analysis_df.dropna()\n",
    "\n",
    "x_value = (heart_analysis_df[\"age\"]).astype(float)\n",
    "y_value = (heart_analysis_df[\"cigsPerDay\"]).astype(float)\n",
    "\n",
    "# x_value = list((heart_analysis_df[\"age\"]).astype(float))\n",
    "# y_value = list((heart_analysis_df[\"cigsPerDay\"]).astype(float))\n",
    "\n",
    "x_value\n",
    "y_value\n",
    "\n",
    "z_value = (heart_analysis_df[\"TenYearCHD\"]).astype(float)\n",
    "z_value\n",
    "binary = [0,1]\n",
    "\n",
    "plt.scatter(x_value, y_value,c=z_value, marker=\"o\")\n",
    "# plt.colorbar(label=\"TenYearCHD\")\n",
    "plt.legend(\"TenYearCHD\")\n",
    "plt.xlabel('Age')\n",
    "plt.ylabel('Cigarrets Per Day')\n",
    "\n",
    "(slope, intercept, rvalue, pvalue, stderr) = stats.linregress(x_value, y_value)\n",
    "slope\n",
    "\n",
    "line = slope * x_value + intercept\n",
    "plt.plot(x_value, line, color='red', label='Regression Line')\n",
    "line_eq = \"y = \" + str(round(slope,2)) + \"x +\" + str(round(intercept,2))\n",
    "print(f\"The r-value is: {rvalue**2}\")\n",
    "print(line_eq)\n",
    "plt.show()\n",
    "\n",
    "\n",
    "# Bar plot\n",
    "# plt.hist(heart_analysis_df[\"prevalentStroke\"])\n",
    "# plt.hist(heart_analysis_df[\"currentSmoker\"])\n",
    "# plt.xlabel('Current Smoker')\n",
    "# plt.ylabel('Prevalent Stroke')\n",
    "\n",
    "# plt.title(\"Current Smoker correlation to Prevalent Stroke\")\n",
    "# plt.show()\n",
    "\n",
    "\n",
    "\n",
    "\n",
    "# Analysis: As age increases, the amount of cigarrets per day stays relatively consistent; Meanwhile the amount of participants having heart disease does not show a siginificant decrease as the amounts of cigarrets per day being decreased.\n",
    "# This could indicate a lack of correlation between cigarrets per day and the risk of having heart disease in 10 years."
   ]
  },
  {
   "cell_type": "code",
   "execution_count": null,
   "metadata": {},
   "outputs": [],
   "source": [
    "\n",
    "x_value = heart_analysis_df[\"currentSmoker\"]\n",
    "y_value = heart_analysis_df[\"prevalentStroke\"]\n",
    "z_value = heart_analysis_df[\"TenYearCHD\"]\n",
    "\n",
    "plt.scatter(x_value, y_value,z_value, marker=\"o\")\n",
    "plt.xlabel('CurrentSmoker')\n",
    "plt.ylabel('PrevalentStroke')\n",
    "plt.show()\n",
    "\n",
    "(slope, intercept, rvalue, pvalue, stderr) = stats.linregress(x_value, y_value)\n",
    "line = slope * x_value + intercept\n",
    "plt.plot(x_value, line, color='red', label='Regression Line')\n",
    "line_eq = \"y = \" + str(round(slope,2)) + \"x +\" + str(round(intercept,2))\n",
    "print(f\"The r-value is: {rvalue**2}\")\n",
    "print(line_eq)\n",
    "    "
   ]
  },
  {
   "cell_type": "code",
   "execution_count": null,
   "metadata": {},
   "outputs": [],
   "source": [
    "\n",
    "\n",
    "import io\n",
    "import pandas as pd\n",
    "import matplotlib.pyplot as plt\n",
    "import numpy as np\n",
    "from matplotlib.path import Path\n",
    "from matplotlib.spines import Spine\n",
    "from matplotlib.projections.polar import PolarAxes\n",
    "from matplotlib.projections import register_projection\n",
    "\n",
    "\n",
    "\n"
   ]
  },
  {
   "cell_type": "code",
   "execution_count": null,
   "metadata": {},
   "outputs": [],
   "source": [
    "contingency_table = pd.crosstab(heart_analysis_df['diabetes'], heart_analysis_df['TenYearCHD'])\n",
    "\n",
    "# Perform the Chi-square test\n",
    "chi2, p_value, dof, expected = stats.chi2_contingency(contingency_table)\n",
    "\n",
    "# Output the results\n",
    "print(f\"Chi-square statistic: {chi2}\")\n",
    "print(f\"P-value: {p_value}\")\n",
    "print(f\"Degrees of freedom: {dof}\")\n",
    "print(f\"Expected frequencies:\\n{expected}\")"
   ]
  },
  {
   "cell_type": "code",
   "execution_count": null,
   "metadata": {},
   "outputs": [],
   "source": [
    "# Current smoker vs prevalent Stroke\n",
    "Summary_Current_Smoker = heart_analysis_df[\"currentSmoker\"]\n",
    "\n",
    "# Drop rows with NaN values\n",
    "Summary_Current_Smoker = Summary_Current_Smoker.dropna()\n",
    "\n",
    "correlation_matrix = Summary_Stroke_df.corrwith(Summary_Current_Smoker)\n",
    "\n",
    "# correlation_matrix = Summary_Stroke_df[['Summary_Current_Smoker', 'Summary_Heart_Disease_df']].corr()\n",
    "\n",
    "\n",
    "# correlation_matrix = correlation_matrix.squeeze()\n",
    "\n",
    "if correlation_matrix.isnull().all():\n",
    "    print(\"No valid correlation to visualize.\")\n",
    "else:\n",
    "    sns.heatmap(correlation_matrix.to_frame(), annot=True, cmap='coolwarm', vmin=-1, vmax=1)\n",
    "    plt.title('Correlation Heatmap')\n",
    "    plt.show()\n"
   ]
  }
 ],
 "metadata": {
  "kernelspec": {
   "display_name": "dev",
   "language": "python",
   "name": "python3"
  },
  "language_info": {
   "codemirror_mode": {
    "name": "ipython",
    "version": 3
   },
   "file_extension": ".py",
   "mimetype": "text/x-python",
   "name": "python",
   "nbconvert_exporter": "python",
   "pygments_lexer": "ipython3",
   "version": "3.10.13"
  }
 },
 "nbformat": 4,
 "nbformat_minor": 2
}

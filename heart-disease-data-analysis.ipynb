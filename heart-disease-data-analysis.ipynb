{
 "cells": [
  {
   "cell_type": "code",
   "execution_count": null,
   "metadata": {},
   "outputs": [],
   "source": [
    "from pathlib import Path\n",
    "import pandas as pd\n",
    "import matplotlib.pyplot as plt\n",
    "import scipy.stats as stats\n",
    "from scipy.stats import chi2_contingency\n",
    "\n",
    "\n",
    "csv_file = Path('Resources/framingham.csv')\n",
    "\n",
    "heart_analysis_df = pd.read_csv(csv_file)\n",
    "\n",
    "heart_analysis_df"
   ]
  },
  {
   "cell_type": "markdown",
   "metadata": {},
   "source": [
    "## Male vs Female Population\n",
    "\n",
    "### Analysis:"
   ]
  },
  {
   "cell_type": "code",
   "execution_count": null,
   "metadata": {},
   "outputs": [],
   "source": [
    "male_count = (heart_analysis_df['male'] == 1).sum()\n",
    "female_count = (heart_analysis_df['male'] == 0).sum()\n",
    "print(f'males: {male_count}')\n",
    "print(f'females: {female_count}')\n",
    "print(f'total population: {male_count+female_count}')\n",
    "labels = ['female', 'male']\n",
    "sizes = [female_count, male_count]\n",
    "sex_population_df = pd.DataFrame({'Sex': labels, 'Count': sizes})\n",
    "sex_population_df.plot.pie(y='Count', labels=sex_population_df['Sex'], autopct='%1.1f%%', legend=False)\n",
    "plt.title('Distribution of Male and Female')\n",
    "plt.show()"
   ]
  },
  {
   "cell_type": "markdown",
   "metadata": {},
   "source": [
    "## Diabetes and Heart Disease\n",
    "\n",
    "### Analysis:\n",
    "\n",
    "The correlation between diabetes and the risk of developing coronary heart disease (CHD) over ten years reveals a significant likelihood of having CHD. Individuals with diabetes exhibit a higher rate of CHD, with 36.7% of diabetic patients experiencing CHD, compared to only 14.62% of non-diabetic individuals. This significant difference is supported by a T-test, yielding a statistic of 4.73 and a p-value of approximately 0.0000068. Being that our p-value is so low this indicates the difference between the populations is not due to random chance. The T-statistic emphasizes the strength in our argument that there is a correlation of diabetes and CHD. Diabetes is a significant risk factor for the development of CHD. These findings let us argue that diabetic individuals need to be more thorough with their health to prevent heart disease.\n"
   ]
  },
  {
   "cell_type": "code",
   "execution_count": null,
   "metadata": {},
   "outputs": [],
   "source": [
    "diabetes_count = (heart_analysis_df['diabetes'] == 1).sum()\n",
    "non_diabetes_count = (heart_analysis_df['diabetes'] == 0).sum()\n",
    "print(f'Diabetics: {diabetes_count}')\n",
    "print(f'Non-diabetic: {non_diabetes_count}')\n",
    "print(f'Total population: {diabetes_count+non_diabetes_count}')\n",
    "labels = ['Diabetics', 'Non-diabetic']\n",
    "sizes = [diabetes_count, non_diabetes_count]\n",
    "diabetes_population_df = pd.DataFrame({'diabetes': labels, 'Count': sizes})\n",
    "diabetes_population_df.plot.pie(y='Count', labels=diabetes_population_df['diabetes'], autopct='%1.1f%%', legend=False, startangle=90)\n",
    "plt.title('Distribution of Diabetics and Non-diabetic')\n",
    "plt.show()"
   ]
  },
  {
   "cell_type": "code",
   "execution_count": null,
   "metadata": {},
   "outputs": [],
   "source": [
    "diabetics = heart_analysis_df[heart_analysis_df['diabetes'] == 1] \n",
    "non_diabetics = heart_analysis_df[heart_analysis_df['diabetes'] == 0]\n",
    "\n",
   "outputs": [],
   "source": [
    "## Limitations (Move to Limitations section)\n",
    "\n",
    "So it's common knowledge that people with diabetes are twice as likely to have heart disease. (Check out [Diabetes and Your Heart](https://www.cdc.gov/diabetes/library/features/diabetes-and-heart.html#:~:text=If%20you%20have%20diabetes%2C%20you,are%20to%20have%20heart%20disease.) for more info.) Since our population for dianietes is so low we would have liked a higher population of diabetics in this dat set to have more confidence in our analysis."
   ]
  },
  {
   "cell_type": "code",
   "execution_count": null,
   "metadata": {},
   "outputs": [],
   "source": [
    "\n",
    "education_counts_df = heart_analysis_df\n",
    "\n",
    "education_counts_df['education'] = education_counts_df['education'].astype(str)\n",
    "\n",
    "education_counts_df['education'] = education_counts_df['education'].replace('nan', 'Not Specified')\n",
    "\n",
    "education_counts_df = education_counts_df['education'].value_counts().sort_index()\n",
    "\n",
    "education_counts_df.plot(kind='bar')\n",
    "plt.title('Education Level Distribution')\n",
    "plt.xlabel('Education Level')\n",
    "plt.ylabel('Number of Individuals')\n",
    "plt.xticks(rotation=0) \n",
    "plt.show()"
   ]
  },
  {
   "cell_type": "code",
   "execution_count": null,
   "metadata": {},
   "outputs": [],
   "source": [
    "# Create a histogram for the age distribution\n",
    "age_histogram = heart_analysis_df\n",
    "plt.hist(age_histogram['age'], bins=10, edgecolor='black') \n",
    "plt.title('Age Histogram')\n",
    "plt.xlabel('Age')\n",
    "plt.ylabel('Number of people')\n",
    "plt.grid(axis='y', alpha=0.75) \n",
    "\n",
    "plt.show()"
   ]
  },
  {
   "cell_type": "code",
   "execution_count": null,
   "metadata": {},
   "outputs": [],
   "source": [
    "male_df = heart_analysis_df[heart_analysis_df['male'] == 1]\n",
    "female_df = heart_analysis_df[heart_analysis_df['male'] == 0]\n",
    "number_of_male_TYCHD = male_df[male_df['TenYearCHD'] == 1]['TenYearCHD'].sum()\n",
    "number_of_female_TYCHD = female_df[female_df['TenYearCHD'] == 1]['TenYearCHD'].sum()\n",
    "\n",
    "male_percentage = round((number_of_male_TYCHD/male_df[\"TenYearCHD\"].count()) * 100, 2)\n",
    "female_percentage = round((number_of_female_TYCHD/female_df[\"TenYearCHD\"].count()) * 100, 2)\n",
    "\n",
    "print(f'Male % of heart disease: {male_percentage}%')\n",
    "print(f'Female % of heart disease: {female_percentage}%')"
   ]
  },
  {
   "cell_type": "markdown",
   "metadata": {},
   "source": [
    "## Atuls's Section"
   ]
  },
  {
   "cell_type": "code",
   "execution_count": null,
   "metadata": {},
   "outputs": [],
   "source": [
    "print('This is your teammates Atul\\'s Section')"
   ]
  },
  {
   "cell_type": "code",
   "execution_count": null,
   "metadata": {},
   "outputs": [],
   "source": []
  },
  {
   "cell_type": "code",
   "execution_count": null,
   "metadata": {},
   "outputs": [],
   "source": []
  },
  {
   "cell_type": "code",
   "execution_count": null,
   "metadata": {},
   "outputs": [],
   "source": []
  },
  {
   "cell_type": "code",
   "execution_count": null,
   "metadata": {},
   "outputs": [],
   "source": []
  },
  {
   "cell_type": "code",
   "execution_count": null,
   "metadata": {},
   "outputs": [],
   "source": []
  },
  {
   "cell_type": "code",
   "execution_count": null,
   "metadata": {},
   "outputs": [],
   "source": []
  },
  {
   "cell_type": "code",
   "execution_count": null,
   "metadata": {},
   "outputs": [],
   "source": []
  },
  {
   "cell_type": "code",
   "execution_count": null,
   "metadata": {},
   "outputs": [],
   "source": []
  },
  {
   "cell_type": "code",
   "execution_count": null,
   "metadata": {},
   "outputs": [],
   "source": []
  },
  {
   "cell_type": "code",
   "execution_count": null,
   "metadata": {},
   "outputs": [],
   "source": []
  },
  {
   "cell_type": "markdown",
   "metadata": {},
   "source": [
    "## Ezrelle's Section"
   ]
  },
  {
   "cell_type": "markdown",
   "metadata": {},
   "source": [
    "## Cigerette's and Heart Disease"
   ]
  },
  {
   "cell_type": "code",
   "execution_count": null,
   "metadata": {},
   "outputs": [],
   "source": [
    "smoker_count = (heart_analysis_df['currentSmoker'] == 1).sum()\n",
    "non_smoker_count = (heart_analysis_df['currentSmoker'] == 0).sum()\n",
    "print(f'Smoker: {smoker_count}')\n",
    "print(f'Non-smoker: {non_smoker_count}')\n",
    "print(f'Total population: {smoker_count+non_smoker_count}')\n",
    "labels = ['Smoker', 'Non-smoker']\n",
    "sizes = [smoker_count, non_smoker_count]\n",
    "smoker_population_df = pd.DataFrame({'currentSmoker': labels, 'Count': sizes})\n",
    "smoker_population_df.plot.pie(y='Count', labels=smoker_population_df['currentSmoker'], autopct='%1.1f%%', legend=False)\n",
    "plt.title('Distribution of Smoker and Non-Smoker')\n",
    "plt.show()"
   ]
  },
  {
   "cell_type": "code",
   "execution_count": 10,
   "metadata": {},
   "outputs": [
    {
     "name": "stdout",
     "output_type": "stream",
     "text": [
      "Male Smoker: 1106\n",
      "Male Non-smoker: 714\n",
      "Total Male population: 1820\n"
     ]
    },
    {
     "data": {
      "image/png": "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",
      "text/plain": [
       "<Figure size 640x480 with 1 Axes>"
      ]
     },
     "metadata": {},
     "output_type": "display_data"
    }
   ],
   "source": [
    "smoker_count = (male_df['currentSmoker'] == 1).sum()\n",
    "non_smoker_count = (male_df['currentSmoker'] == 0).sum()\n",
    "print(f'Male Smoker: {smoker_count}')\n",
    "print(f'Male Non-smoker: {non_smoker_count}')\n",
    "print(f'Total Male population: {smoker_count+non_smoker_count}')\n",
    "labels = ['Smoker', 'Non-smoker']\n",
    "sizes = [smoker_count, non_smoker_count]\n",
    "smoker_population_df = pd.DataFrame({'currentSmoker': labels, 'Count': sizes})\n",
    "smoker_population_df.plot.pie(y='Count', labels=smoker_population_df['currentSmoker'], autopct='%1.1f%%', legend=False)\n",
    "plt.title('Male Distribution of Smoker and Non-Smoker')\n",
    "plt.show()"
   ]
  },
  {
   "cell_type": "code",
   "execution_count": 11,
   "metadata": {},
   "outputs": [
    {
     "name": "stdout",
     "output_type": "stream",
     "text": [
      "Female Smoker: 989\n",
      "Female Non-smoker: 1431\n",
      "Total Female population: 2420\n"
     ]
    },
    {
     "data": {
      "image/png": "iVBORw0KGgoAAAANSUhEUgAAAacAAAGZCAYAAAAtn/5FAAAAOXRFWHRTb2Z0d2FyZQBNYXRwbG90bGliIHZlcnNpb24zLjcuMiwgaHR0cHM6Ly9tYXRwbG90bGliLm9yZy8pXeV/AAAACXBIWXMAAA9hAAAPYQGoP6dpAABQNklEQVR4nO3deVwU9eMG8Gd3WXaXGwSRSw5FBBURb837PkpLzS6PLDU7/Hlkfc28K7PMLLPsMC0rj9TMK7w1TTTvE89EQRQQ5JJz2c/vD2JzBeRamF32eb9evJTZ2Z1nl4FnZ+azMzIhhAAREZEJkUsdgIiI6GEsJyIiMjksJyIiMjksJyIiMjksJyIiMjksJyIiMjksJyIiMjksJyIiMjksJyIiMjlGKacVK1ZAJpMV+/Xmm28aYxFVQiaTYdasWUZ7vM6dO+uft1wuh729PerXr48hQ4Zg3bp10Ol0Re7j5+eHkSNHlms5hw4dwqxZs5CSklKu+z28rH379kEmk2HdunXlepxHyczMxKxZs7Bv374itxWuJ9HR0UZbXlV49913UbduXVhZWcHJyemR827fvh09e/aEp6cnVCoVPD090blzZ3z44YfVE/YhI0eOhJ2dnSTLrk5lXZdmzZoFmUyG2rVrIz09vcjtfn5+6N+/fxWlLF1UVBSGDRuGgIAAqNVquLq6Ijw8HK+//jrS0tKqPU/h63rs2LFqX/bDrIz5YMuXL0fDhg0Npnl6ehpzESYvICAAP//8MwDg/v37uH79OjZu3IghQ4agQ4cO2Lx5MxwdHfXz//bbb3BwcCjXMg4dOoTZs2dj5MiRpf7xfFBFllVemZmZmD17NoCCsn5Qv379EBkZCQ8PjyrNUBm///473n//fUybNg19+vSBSqUqcd6lS5di3LhxGDRoEL744gu4uLggJiYGhw4dwrp16/C///2vGpPToyQmJuKjjz7C3LlzpY6id/LkSbRv3x7BwcGYMWMG/Pz8cPfuXZw+fRqrV6/Gm2++WeW/r6bMqOXUuHFjtGjRwpgPaXY0Gg3atGljMO3ll1/G8uXLMWrUKIwZMwZr1qzR39asWbMqz5SVlQWNRlMty3oUNzc3uLm5SZqhNOfOnQMAjB8/HrVr137kvPPmzUPHjh2LbHkOGzas2K3kmiAvLw8ymQxWVkb901HlevfujU8//RSvvfYa6tSpI3UcAMCiRYsgl8uxb98+2Nvb66cPHjwYc+fORU087akQAtnZ2dBoNKXOW63HnNasWYO2bdvC1tYWdnZ26NWrF06ePGkwT+FuiYsXL6JXr16wtbWFh4eHfjfJ4cOH8dhjj8HW1hYNGjTADz/8YHD/xMREvPrqqwgJCYGdnR1q166Nrl274sCBA2XKeOfOHYwdOxbe3t6wtraGv78/Zs+eDa1WW6nn/uKLL6Jv37749ddfcePGDf30h3e16XQ6vPfeewgKCoJGo4GTkxNCQ0Px2WefASjYTTFlyhQAgL+/v343YuFutMLdFBs2bECzZs2gVqv1WzIl7ULMzs7GpEmTUKdOHWg0GnTq1KnIz6Vz585FtoSAgp+Xn58fACA6OlpfPrNnz9ZnK1xmSbtivv/+ezRt2hRqtRouLi548sknERUVVWQ5dnZ2uHr1Kvr27Qs7Ozv4+Phg8uTJyMnJKfF1f/B1/eijj9CwYUOoVCrUrl0bw4cPR2xsrH4ePz8/vPvuuwAAd3f3Unf7JiUllbgVKJcb/mrJZDK8/vrrWL58uf5n26JFCxw+fBhCCHz88cfw9/eHnZ0dunbtiqtXrxZ5zLK8TsX566+/4Orqiv79++P+/fsAgCtXruC5555D7dq1oVKpEBwcjCVLlhjcr3C378qVKzF58mR4eXlBpVIVm63Q7Nmz0bp1a7i4uMDBwQHh4eFYtmxZkT+0hetpREQEwsPDodFo0LBhQ3z//fdFHvPw4cNo37491Go1PD09MXXqVOTl5ZX6vB/03nvvQavVlmk3fnJyMl599VV4eXnB2toaAQEBmDZtWpH1rPBnunLlSgQHB8PGxgZNmzbFli1bypQpKSkJDg4OJe6Glclk+v937twZjRs3RmRkJNq1aweNRgM/Pz8sX74cALB161aEh4fDxsYGTZo0QURERJHHO3jwILp16wZ7e3vY2NigXbt22Lp1a6k5b9++jebNmyMwMBBXrlwBAKSlpeHNN9+Ev78/rK2t4eXlhQkTJujXr4dfo6VLlyI4OBgqlarI3+wSCSNYvny5ACAOHz4s8vLyDL4Kvf/++0Imk4lRo0aJLVu2iA0bNoi2bdsKW1tbcf78ef18I0aMENbW1iI4OFh89tlnYufOneLFF18UAMTUqVNFgwYNxLJly8T27dtF//79BQBx7Ngx/f0vXrwoxo0bJ1avXi327dsntmzZIl566SUhl8vF3r17DXIDEDNnztR/f/v2beHj4yN8fX3F119/LXbt2iXmzp0rVCqVGDlyZKmvQ6dOnUSjRo1KvH3p0qUCgFi5cqV+mq+vrxgxYoT++3nz5gmFQiFmzpwpdu/eLSIiIsSiRYvErFmzhBBCxMTEiDfeeEMAEBs2bBCRkZEiMjJSpKam6h/Pw8NDBAQEiO+//17s3btX/P3338Uua+/evQKA8PHxEQMGDBCbN28WP/30k6hfv75wcHAQ165dM3hunTp1KvKcRowYIXx9fYUQQmRnZ4uIiAgBQLz00kv6bFevXhVC/LeeXL9+XX//Dz74QAAQzz77rNi6dav48ccfRUBAgHB0dBSXL182WE7herFgwQKxa9cuMWPGDCGTycTs2bMf/YMRQowZM0YAEK+//rqIiIgQS5cuFW5ubsLHx0ckJiYKIYQ4ceKEeOmllwQAERERISIjI0VMTEyJj9m9e3dhZWUlZs6cKU6dOiW0Wm2J8wIQvr6+ol27dmLDhg3it99+Ew0aNBAuLi5i4sSJYsCAAWLLli3i559/Fu7u7iI0NFTodLoKvU62trb679esWSNUKpUYN26cPt/58+eFo6OjaNKkifjxxx/Fjh07xOTJk4VcLtevZ0L8t354eXmJwYMHi02bNoktW7aIpKSkEp/nyJEjxbJly8TOnTvFzp07xdy5c4VGoynyM/L19RXe3t4iJCRE/Pjjj2L79u1iyJAhAoDYv3+/fr7z588LGxsbERISIlatWiV+//130atXL1G3bt0i61JxZs6cKQCIxMREMXHiRGFlZSUuXbpkkKNfv37677OyskRoaKiwtbUVCxYsEDt27BDTp08XVlZWom/fvkV+pn5+fqJVq1Zi7dq1Ytu2baJz587CysrK4HenJO+9957+Z7pv3z6RmZlZ4rydOnUStWrVEkFBQUX+/s2ePVs0adJErFq1Smzbtk20adNGqFQqcevWLf399+3bJ5RKpWjevLlYs2aN2Lhxo+jZs6eQyWRi9erV+vkKf0ePHj0qhBDi7NmzwsfHR7Rt21b/e3L//n0RFhYmXF1dxcKFC8WuXbvEZ599JhwdHUXXrl0N1tvC9Sc0NFT88ssvYs+ePeLcuXOlvjZCCGHUciruKy8vT9y8eVNYWVmJN954w+B+6enpok6dOuLpp5/WTxsxYoQAINavX6+flpeXJ9zc3AQAceLECf30pKQkoVAoxKRJk0rMptVqRV5enujWrZt48sknDW57uJzGjh0r7OzsxI0bNwzmW7BggQBgUKLFKa2c/vjjDwFAzJ8/Xz/t4cLo37+/CAsLe+RyPv744xJ/MX19fYVCoTD4BSxpWYV/fMLDww1WqOjoaKFUKsXLL79s8NxKKychhEhMTCzyuhZ6uJzu3bsnNBpNkV/6mzdvCpVKJZ577jmD5QAQa9euNZi3b9++IigoqMiyHhQVFSUAiFdffdVg+pEjRwQA8c477+inPfjHrDRXr14VjRs31q/rGo1GdOvWTXzxxRciNzfXYF4Aok6dOiIjI0M/bePGjQKACAsLM3j9Fy1aJACIM2fOCCHK/zoVltOHH34oFAqFwfomhBC9evUS3t7e+jc0hV5//XWhVqtFcnKyEOK/9aNjx46lvhbFyc/PF3l5eWLOnDmiVq1aBs/R19dXqNVqg9+1rKws4eLiIsaOHaufNnToUKHRaMSdO3f007RarWjYsGG5y+nu3bvC0dFRDBo0yCDHg+VU+Aby4fVs/vz5AoDYsWOHfhoA4e7uLtLS0vTT7ty5I+RyuZg3b16pr092drYYOHCgfv1RKBSiWbNmYtq0aSIhIcFg3k6dOhV5I17490+j0RgU0alTpwQA8fnnn+untWnTRtSuXVukp6frp2m1WtG4cWPh7e2t/9k8WE47d+4UDg4OYvDgwSIrK0t/v3nz5gm5XK4vsELr1q0TAMS2bdsMXiNHR0f9OlUeRt2t9+OPP+Lo0aMGX1ZWVti+fTu0Wi2GDx8OrVar/1Kr1ejUqVORkV0ymQx9+/bVf29lZYX69evDw8PD4LiJi4sLateubbCbDCg4UB0eHg61Wg0rKysolUrs3r271F0gW7ZsQZcuXeDp6WmQs0+fPgCA/fv3V+r1EWXYh9yqVSucPn0ar776KrZv316hETuhoaFo0KBBmed/7rnnDHYh+Pr6ol27dti7d2+5l10ekZGRyMrKKrKr0cfHB127dsXu3bsNpstkMjz++OMG00JDQ4v8/B9W+DweXk6rVq0QHBxcZDllVa9ePZw+fRr79+/H7Nmz0b17dxw9ehSvv/462rZti+zsbIP5u3TpAltbW/33wcHBAIA+ffoYvP6F0wufV3lfJyEExo4di5kzZ+KXX37BW2+9pb8tOzsbu3fvxpNPPgkbGxuD9bxv377Izs7G4cOHDR5v0KBBZX5N9uzZg+7du8PR0REKhQJKpRIzZsxAUlISEhISDOYNCwtD3bp19d+r1Wo0aNDA4Oe5d+9edOvWDe7u7vppCoUCQ4cOLXOmQrVq1cLbb7+N9evX48iRIyXmt7W1xeDBgw2mF772D7/WXbp0MThe5O7uXuRv0oOvsVar1f8dUKlU+O2333DhwgV8+umneOaZZ5CYmIj3338fwcHBuHTpksGyPDw80Lx5c/33hX//wsLCDAaePbz+3L9/H0eOHMHgwYMNdiEqFAoMGzYMsbGxRZb1ww8/oG/fvnj55Zexdu1aqNVq/W1btmxB48aNERYWZvC8evXqZXCIoVDXrl3h7OxczKv9aEYtp+DgYLRo0cLgCwDi4+MBAC1btoRSqTT4WrNmDe7evWvwODY2NgYvBgBYW1vDxcWlyDKtra0N/ggsXLgQ48aNQ+vWrbF+/XocPnwYR48eRe/evZGVlfXI/PHx8di8eXORjI0aNQKAIjnLq3BledQIxqlTp2LBggU4fPgw+vTpg1q1aqFbt27lGtpZ3tFwxR0grlOnDpKSksr1OOVV+PjF5fX09Cyy/OLWC5VKVaQEKruc8pDL5ejYsSNmzJiBTZs2IS4uDkOHDsXx48eLHD95eP21trZ+5PTC51Xe/Lm5uVizZg0aNWqkf2NVKCkpCVqtFosXLy6ynhe+IXx4PS/r+vT333+jZ8+eAIBvv/0Wf/31F44ePYpp06YBQJHfv1q1ahV5DJVKZTBfUlJSietnRUyYMAGenp4Ghf2gwuU9+GYBAGrXrg0rK6sir3VpzyE6OrrI6/zwm9zg4GBMmDABP/30E27evImFCxciKSkJ06dPN5ivpL9/pa0/9+7dgxCixPWn8Hk/aPXq1dBoNHj55ZeLvBbx8fE4c+ZMkedlb28PIUSF15+HVcuQG1dXVwDAunXr4OvrW6XL+umnn9C5c2d89dVXBtOL+4zDw1xdXREaGor333+/2NsrOyx+06ZNkMlk6NixY4nzWFlZYdKkSZg0aRJSUlKwa9cuvPPOO+jVqxdiYmJgY2NT6nIeXplKc+fOnWKnPfiLp1arkZqaWmS+yhR24ePfvn27yG1xcXH69aayHlyOt7d3lS0HAGxtbTF16lSsWbNGP/Kvssr7OqlUKuzduxe9evVC9+7dERERoX/n6uzsrH/H/NprrxW7PH9/f4Pvy7o+rV69GkqlElu2bDF4E7Fx48Yy3b84tWrVKnH9rAiNRoNZs2ZhzJgxxQ4GqFWrFo4cOQIhhMHzTkhIgFarLfe64unpiaNHjxpMCwoKKnF+mUyGiRMnYs6cOUZbf5ydnSGXy0tcfwAUeV4///wzpk+fjk6dOmHHjh0ICwvT3+bq6gqNRlPs4JXiHqu8f48KVctovV69esHKygrXrl0rsmX14BaWMchksiKfTTlz5gwiIyNLvW///v1x7tw51KtXr9iMlSmn5cuX448//sCzzz5rsCvjUZycnDB48GC89tprSE5O1o9yK3x+pW0JltWqVasMdjneuHEDhw4dMhid5+fnh8uXLxuMWEpKSsKhQ4cMHqs82dq2bQuNRoOffvrJYHpsbCz27NmDbt26VeTpFNG1a1cAKLKco0ePIioqqsLLKe6XHYB+97GxPuNXkdepWbNm2L9/P2JjY9G5c2f9LjUbGxt06dIFJ0+eRGhoaLHreXFbA2VROMRcoVDop2VlZWHlypUVejygYLfZ7t279XtfACA/P9/g4xjlNWrUKAQHB+N///tfkSH/3bp1Q0ZGRpFC/fHHH/W3l4e1tXWR17dwN2BJ609cXBzS0tKMtv7Y2tqidevW2LBhg8HvpU6nw08//QRvb+8ihwFcXFywa9cuBAcHo0uXLga7evv3749r166hVq1axa4/haN3K6tatpz8/PwwZ84cTJs2Df/88w969+4NZ2dnxMfH4++//4atra1+uHNl9e/fH3PnzsXMmTPRqVMnXLp0CXPmzIG/v3+pw8HnzJmDnTt3ol27dhg/fjyCgoKQnZ2N6OhobNu2DUuXLi3yzvthWVlZ+h9kVlYW/vnnH2zcuBFbtmxBp06dsHTp0kfe//HHH9d/XszNzQ03btzAokWL4Ovri8DAQABAkyZNAACfffYZRowYAaVSiaCgIIN93+WRkJCAJ598EqNHj0ZqaipmzpwJtVqNqVOn6ucZNmwYvv76a7zwwgsYPXo0kpKS8NFHHxX5kKC9vT18fX3x+++/o1u3bnBxcYGrq2uxK6yTkxOmT5+Od955B8OHD8ezzz6LpKQkzJ49G2q1GjNnzqzQ83lYUFAQxowZg8WLF0Mul6NPnz6Ijo7G9OnT4ePjg4kTJ1bocRs1aoRu3bqhT58+qFevHrKzs3HkyBF88skncHd3x0svvWSU/BV9nYKDg3HgwAF0794dHTt2xK5du+Dt7Y3PPvsMjz32GDp06IBx48bBz88P6enpuHr1KjZv3ow9e/ZUKGe/fv2wcOFCPPfccxgzZgySkpKwYMGCR36QuTTvvvsuNm3ahK5du2LGjBmwsbHBkiVLigxZLg+FQoEPPvgATz75JICC45aFhg8fjiVLlmDEiBGIjo5GkyZNcPDgQXzwwQfo27cvunfvXuHlPmzMmDFISUnBoEGD0LhxYygUCly8eBGffvop5HI53n77baMta968eejRowe6dOmCN998E9bW1vjyyy9x7tw5rFq1qtitG3t7e0REROCpp55Cjx49sGnTJnTp0gUTJkzA+vXr0bFjR0ycOBGhoaHQ6XS4efMmduzYgcmTJ6N169aVD13uIRTFeHj4YUk2btwounTpIhwcHIRKpRK+vr5i8ODBYteuXfp5Hh4KW6ikkXAPj7bJyckRb775pvDy8hJqtVqEh4eLjRs3FhlVJkTR0XpCFIw2Gz9+vPD39xdKpVK4uLiI5s2bi2nTphmMtCpO4Yiawi9bW1sREBAgBg8eLH799VeRn59fbP4HR9B98sknol27dsLV1VVYW1uLunXripdeeklER0cb3G/q1KnC09NTyOVyAUA/TP7h1+NRyyocjbVy5Uoxfvx44ebmJlQqlejQoYPBqKBCP/zwgwgODhZqtVqEhISINWvWFPu67tq1SzRr1kyoVCoBQL/M4oaSCyHEd999J0JDQ4W1tbVwdHQUAwYMKDIysqT1onA0Vmny8/PF/PnzRYMGDYRSqRSurq7ihRdeKDJUvDyj9b7++mvx1FNPiYCAAGFjYyOsra1FvXr1xCuvvFLkcQGI1157zWDa9evXBQDx8ccfG0wv/Ln8+uuvBtMr+jrFxsaKhg0bCj8/P/0Q5+vXr4tRo0YJLy8voVQqhZubm2jXrp147733Ss3xKN9//70ICgoSKpVKBAQEiHnz5olly5YV+bmXtJ4WNyr0r7/+0g+PrlOnjpgyZYr45ptvyj1a72Ht2rUTAIrkSEpKEq+88orw8PAQVlZWwtfXV0ydOlVkZ2cbzFfcz7TwuT34e1aS7du3i1GjRomQkBDh6OgorKyshIeHh3jqqadEZGSkwbxl/fv3qGwHDhwQXbt2Fba2tkKj0Yg2bdqIzZs3G8xT3N/ynJwcMWjQIKFWq8XWrVuFEEJkZGSId999VwQFBenXxyZNmoiJEycajKws6TUqC9m/D0BERGQyeFZyIiIyOSwnIiIyOSwnIiIyOSwnIiIyOSwnIiIyOSwnIiIyOSwnIiIyOSwnIiIyOSwnIiIyOSwnIiIyOSwnIiIyOSwnIiIyOSwnIiIyOSwnIiIyOSwnIiIyOSwnIiIyOSwnIiIyOSwnIiIyOSwnIiIyOSwnIiIyOSwnIiIyOSwnIiIyOSwnIiIyOSwnIiIyOSwnIiIyOSwnIiIyOSwnIiIyOSwnIiIyOSwnIiIyOSwnIjIZMpkMGzdulDoGmQCWExEVkZCQgLFjx6Ju3bpQqVSoU6cOevXqhcjISKmjkYWwkjoAEZmeQYMGIS8vDz/88AMCAgIQHx+P3bt3Izk5Wepo5ZKbmwtra2upY1AFcMuJiAykpKTg4MGDmD9/Prp06QJfX1+0atUKU6dORb9+/QAU7H77+uuv0b9/f9jY2CA4OBiRkZG4evUqOnfuDFtbW7Rt2xbXrl0zeOyvvvoK9erVg7W1NYKCgrBy5cpHZpkzZw7c3d1x6tQpAMChQ4fQsWNHaDQa+Pj4YPz48bh//75+fj8/P7z33nsYOXIkHB0dMXr0aOO+OFR9BBHRA/Ly8oSdnZ2YMGGCyM7OLnYeAMLLy0usWbNGXLp0SQwcOFD4+fmJrl27ioiICHHhwgXRpk0b0bt3b/19NmzYIJRKpViyZIm4dOmS+OSTT4RCoRB79uwxeNzffvtN6HQ6MX78eFG3bl1x+fJlIYQQZ86cEXZ2duLTTz8Vly9fFn/99Zdo1qyZGDlypP7+vr6+wsHBQXz88cfiypUr4sqVK1X0KlFVYzkRURHr1q0Tzs7OQq1Wi3bt2ompU6eK06dP628HIN59913995GRkQKAWLZsmX7aqlWrhFqt1n/frl07MXr0aIPlDBkyRPTt29fgcX/99VfxwgsviIYNG4qYmBj9bcOGDRNjxowxuP+BAweEXC4XWVlZQoiCcho4cGAlnz2ZAu7WI6IiBg0ahLi4OGzatAm9evXCvn37EB4ejhUrVujnCQ0N1f/f3d0dANCkSRODadnZ2UhLSwMAREVFoX379gbLad++PaKiogymTZw4EZGRkThw4AC8vb31048fP44VK1bAzs5O/9WrVy/odDpcv35dP1+LFi0q/wKQ5FhORFQstVqNHj16YMaMGTh06BBGjhyJmTNn6m9XKpX6/8tkshKn6XS6ItMKCSGKTOvRowdu3bqF7du3G0zX6XQYO3YsTp06pf86ffo0rly5gnr16unns7W1rehTJhPC0XpEVCYhISGV+gxScHAwDh48iOHDh+unHTp0CMHBwQbzPfHEE3j88cfx3HPPQaFQ4JlnngEAhIeH4/z586hfv36FM5D5YDkRkYGkpCQMGTIEo0aNQmhoKOzt7XHs2DF89NFHGDBgQIUfd8qUKXj66acRHh6Obt26YfPmzdiwYQN27dpVZN4nn3wSK1euxLBhw2BlZYXBgwfj7bffRps2bfDaa69h9OjRsLW1RVRUFHbu3InFixdX5imTCWI5EZEBOzs7tG7dGp9++imuXbuGvLw8+Pj4YPTo0XjnnXcq/LgDBw7EZ599ho8//hjjx4+Hv78/li9fjs6dOxc7/+DBg6HT6TBs2DDI5XI89dRT2L9/P6ZNm4YOHTpACIF69eph6NChFc5EpksmhBBShyAiInoQB0QQEZHJYTkREZHJ4TEnolKkZ+fhdmo24tOykZmbjxytDtl5+cjJ++//2Xn/Tiv8XquDTgjYKBWwsVbARmUFW2sFbKytinxvqyqYp5atCs62PA8cEcByIguXo83H7ZRsxKVmFfybkoW41GzcfuD79BxtteWxU1nB21nz75eN/l8fFw18XGzgoFaW/iBENQAHRJDFiEvJwrlbqTgXl4bzt1JxPi4N8enZMKffAHu1FXz+LatgDwc09XZCUx8nuHCLi2oYlhPVSDHJmTh3KxVn/y2jC3GpuJuRK3WsKuPtrEFTHyc09XZEU28nNPF2hI01d4yQ+WI5kdnT6QTO3ErF/kuJ+Ds6CedupSE1K0/qWJJSyGWo72aHUG9HNPVxQrO6TgjxcChyqiAiU8VyIrOUmJ6DPy8nYv/lRBy8ehfJ92vuVpGxuNqp0DHQFZ2C3NAh0I27AsmksZzILGjzdTh+4x72/1tIF26nmdWxIlMjlwGNvRzRJag2eoS4o7GXo9SRiAywnMhkpWblYfu5O9h9MR6HriZV66g5S+PlpEGPEHf0CHFHa38XWCn4EUiSFsuJTEqONh97ohKw8dQt7L2UiFytrvQ7kVE5apTo28QDQ1v6IMzHSeo4ZKFYTmQS/r6ejPXHY/HHudtIy+YWkqkIcrfHkBbeeCrcm8eoqFqxnEgyCWnZWHciFr8ei8X1u/eljkOPYK2Qo1twbTzd0gedAt0gl3PUH1UtlhNVK51OYPfFBKw5ehN7LyUiX8fVz9x4OKoxKNwbT7fwQd1aNlLHoRqK5UTVIlerw4YTsfjmz3/wD7eSagSZDGjt74IX2/ujZ4g7P0NFRsVyoiqVnp2HX47cxPd/XUd8Wo7UcaiKBLnb49Uu9dA/1BMK7vIjI2A5UZVISM/G8r+i8dPhG0jnAAeL4VvLBuM61cNT4d6wtuJwdKo4lhMZVfTd+/j6z3+w/kQsh4FbMA9HNcZ0DMCzrepCrVRIHYfMEMuJjOJ8XCq+3HsNf5y7DY5xoEKudtYY9Zg/hrXxhT0v90HlwHKiSklIy8b8iEvYcDKWpxOiEjmorTCyvT/GdgyArYpnS6fSsZyoQrLz8vHNn/9g6f5ryMzNlzoOmQl3BxXe7t0QTzbz4ug+eiSWE5WLEAKbTsdh/h8XEZeaLXUcMlPhdZ0w64lGCPV2kjoKmSiWE5XZ8Rv3MHfLBZyKSZE6CtUAchkwpLkPpvQOgqudSuo4ZGJYTlSqWylZ+PCPi9h8Ok7qKFQD2aut8H/dAjGinR+UPBs6/YvlRCXK0ebjiz1X8c2f/yCHw8KpitVzs8WMxxuhUwM3qaOQCWA5UbHOxqZi0tpTuJKQIXUUsjDdg90xd2AjeDhqpI5CEmI5kYG8fB0W77mKL/dehZYfWCKJOKitMHdgYwwI85I6CkmE5UR6l+6kY9LaUzgflyZ1FCIAwONNPfHegMZwtOEHeC0Ny4mQrxP4+s9rWLTzCnLzeWyJTIuHoxofD26KxwJdpY5C1YjlZOGu372PyWtP4cTNFKmjEJVIJgNGtPXD//o05Ln6LATLyUIJIbDiUDQ+iriErDye4YHMQ/3adlg0NAyNvRyljkJVjOVkge7dz8X41Sdx4MpdqaMQlZtSIcP/dQvEuM71ee2oGozlZGEuxKVhzMpjiL2XJXUUokpp5eeCJc+Hw82eZ5eoiVhOFmTT6Ti8ve4Md+NRjeHpqMY3w1twN18NxHKyAPk6gfkRF/HNn/9IHYXI6DRKBRYMaYp+oR5SRyEjYjnVcCmZuXhjFY8vUc03vmt9TOzRgJfiqCFYTjVY1O2C40sxyTy+RJahVyN3fDo0DDbWvKChuWM51VBbzsRhyq88vkSWp2Ede3w7vAV8XGykjkKVwHKqYYQQ+Gj7JXy175rUUYgkU8vWGl8+H47WAbWkjkIVxHKqQfJ1Av9bfwa/Ho+VOgqR5JQKGeYMaIxnW9WVOgpVAMuphsjL12HC6lPYeva21FGITMrbvRtiXOd6UsegcmI51QDZefl45afj2HcpUeooRCZpfLdATOrRQOoYVA4sJzOXnp2Hl344hr+vJ0sdhcikje0UgKl9gqWOQWXEcjJj9+7nYsTyv3EmNlXqKERmYWQ7P8x8PISfhTIDLCczlZCWjReWHcHleF5Gnag8nm1VFx882ZgFZeJYTmYoJjkTz393BDeTM6WOQmSWngr3wseDm/Ks5iaM5WRmriVm4Plvj+BOWrbUUYjMWr9QD3w2NAxWCrnUUagYLCczcjs1C4O+PIS4VBYTkTH0DHHHF8+Fw9qKBWVq+BMxE6mZeRjx/d8sJiIj2nEhHhPWnIROx/fopoblZAay8/Lx0g9HOfiBqApsO3sH722NkjoGPYTlZOLydQKv/3ISx27ckzoKUY31/V/Xsezgdalj0ANYTiZu2m9nsSsqXuoYRDXe+1svYBtP/2UyWE4m7JMdl7D6aIzUMYgsgk4AE9ecwtFonm3FFLCcTNSPkdFYvOeq1DGILEqOVofRPx7D1QQe35Uay8kEbTt7G7M2nZc6BpFFSsnMw8jlfyMhnSNjpcRyMjFHo5MxYc0pcGQrkXRi72XhpRXHcD9HK3UUi8VyMiEJ6dl49ecTyNXqpI5CZPHO3krFqz+fgDafv49SYDmZiHydwBu/nERieo7UUYjoX/svJ2J+xEWpY1gklpOJ+Hj7JRzhNZmITM63B64j4hyHmFc3lpMJ2HUhHl//eU3qGERUgim/nsH1u/eljmFReOJXicUkZ6Lf5weQls0Dr5YkNXItUv78EfbNn4BL9zEAACEEUv/6BRmnt0OXnQFrjwZw6TEO1m6+JT6OyNci9fCvuH9uN7TpSVC6eMG584vQBDTXz5Nxfi9S9v8AkZcNu9CecO4ySn+bNjUe8Wumw2PEIshVNlX3hGuAhnXssfG19lArFVJHsQjccpJQjjYf434+zmKyMDm3LyP99HYo3fwMpqcdWY+0oxvh0v0V1Bm+EApbZySsnQ5dTsnX7Uo5sBIZp/6AS/ex8Hz5K9g364vE395HbnzBlnh+ZiqSIxbDucso1H56DjLO7UbmtaP6+ydt/xLOnUaymMrg4p10vLvxnNQxLAbLSUKzNp3HuVtpUsegaqTLzcLdzQtQq/cbkKvt9NOFEEg/9jsc2w6FTVA7WLv5wbXfJOjycnA/an+Jj3f//F44tn0amnotoXSqA/tmfaH2D0fa378BALQpdyBT2cA2uCNUHg2grhuKvLs3C+57YR9kCivYBLWr2iddg6w7HovfTsZKHcMisJwksv54LFb9zVMTWZrknV9BU68lNH5hBtO1qfHIv38PGv9m+mkyKyXUPo2Rc6vkM2YLbR6gsDaYJrOyRnbsBQCAlYsXRF4OcuOvIT8rHbm3L8PazQ/5WelIOfAzXHq8YrwnZyGmbzyPG0k8/lTVWE4SuMTdAxbp/oX9yL1zDc6dRhS5LT+j4Kzzchsng+kKWyf9bcVR+4cj/ehG5CXfghA6ZF0/iawrR5B/v2Dkp0JtB9d+E3F3y0Lc+XESbBt3hSagOe7tXQb75v2hTY1H3PLxiFv2Ku5fPGi8J1uDZeRoMX7VSeTx809VykrqAJYmV6vD+FUnkZWXL3UUqkbatEQk7/4W7kPnQGZlXfKMMpnh90IUnfYAl+5jkBSxGHHfjQMAWDl7wLZJd9w/u0s/j02DdrBp8N+uu+ybZ5CXeAMuPV5B3Ddj4Pr4FChsnXH7x0lQ+zSGwtapQs/RkpyOTcWC7ZcwtW+w1FFqLJZTNft89xVcik+XOgZVs9w7V6HLTMHtFRP+myh0yIk5j/QTW+A5+msAgO7+PcDORT9LfmbqI8tCYeOI2k+9C6HNRX5WGhR2tZCyfwWsHN2LnV9o85C84yvU6j8Z2nu3IXT5UNdtAgBQungh5/Yl2NRvXennawm+OfAPOjVwQ7v6rlJHqZFYTtXo3K1ULN3PzzNZIrVvU3iM+sJgWtK2z6Cs5Q2H1oNg5VQHCltnZEWfhLV7PQCAyM9Ddsw5OHceWerjy6ysYWXvCpGvRealQ7Bp+Fix86UcWg11QHOo6tQvGNGn+28LXui0gI67qspKCOCd384iYkJHDi+vAiynapKr1eHNX09DyzO6WiS5ygbWDw0dlylVkKvt9dPtWwxAauSvUDp7wsrZE6mRv0KuVME2uJP+Pne3fAKFfS04dxoJAMiJu4T89CQo3QOQn34XqX/9AggdHFsPKpIhN/EGMi/+CY+RiwEAVi7egEyO9NM7oLBzRl5SLKw9Aqvk+ddU0UmZWLznCqb0aih1lBqH5VRNvthzBRfvcHcelcyh9SAIbQ6Sd3yF/OwMqDyDUPvpOQafQdKmJQKy/8YxCW0uUg6sRF7KHcitNdAENEetfpMNhqkDBUPVk7d/AeeuoyG3VgMA5EoVavWdgOSdX0Hk58GlxyuwsucuqvL65s9/8ERTLwTVsZc6So3CM0RUh/jzyP51NKZrX8Kvd+pInYaIjKy5rzPWvdIWskcMXqHy4VDyqqbTAZvGQ333PD5KfRNbAreilnWe1KmIyIiO37iHn4/clDpGjcJyqmpHvwNuHQMAyIQOjWN+xhGn6RjrzRWZqCaZH3ERCWm8eq6xcLdeVUq7DXzREsgt/ljTde+BGBY7ALHZqmoORkRVoV8TDyx5PlzqGDUCt5yq0u45JRYTAPjHbsR+27fxjt+lagxFRFVl69nb2HMxXuoYNQK3nKpK3Engmy4Ayvby3vHsgRcThiIqg2eHJjJnXk4a7JzUETbWHAxdGdxyqioR76CsxQQAdeJ2YptiMhYEnK66TERU5W6lZGHRritSxzB7LKeqcH4jcPNQue8my0nF4Lj5OOX3BVo78VIaROZqxaFoxKVkSR3DrLGcjE2bA+ycUamHcLpzCKvzJ+Hb+pFQyrnXlcjc5Gp1+Hw3t54qg+VkbIe/AlJuVPphZHmZ6BG7GKc9P0JvtyQjBCOi6rTueCyu3+V1nyqK5WRMGYnAgU+M+pA2d0/jq/uTsCZwD2wVPCknkbnQ6gQW7rwsdQyzxXIypoMLgRzjHyuS6fLQOuY7nKw9G8953Db64xNR1dhyJg5Rt3n8uCJYTsaSkQAcW16li7C+dwXvp0zBtsDNcOMpkIhMnhDAJzv4OcaKYDkZy1+fAdqqH50jEzqExKxCpOM0vOYTXeXLI6LK2RWVgJM370kdw+ywnIzh/t0q32p6mFV6LKYkvoP99Vejrobn8yIyZR9v59ZTebGcjOHQYiBPmlE5vrGbsE/zFqb7R0myfCIq3aFrSfjr6l2pY5gVnr6osjKTgUVNgNwMqZMgwbMbXkp8BmfTbaWOQkQPCfNxwsbX2ksdw2xwy6myIpeYRDEBQO243dgkn4yF9U5CJuN7DiJTciomBQevcOuprFhOlZGVAvz9jdQpDMhy0vDUrY9xqu5itHdOlToOET3gh8hoqSOYDZZTZZxcWSWfazIGx/jD+ClvEr4P/IunQCIyEbuj4hF7L1PqGGaB5VRROh1wdJnUKR5Jps1C15glOO35Ifq6cXcCkdR0Alh5uPKnN7MELKeKuroTuHdd6hRlYnP3LJbcn4T1gTtha5UvdRwii7bmaAyy8/h7WBqWU0WZ2LGm0sh0WjSPWY6TrrMwzPOW1HGILFZKZh42nYqTOobJYzlVRNI14OpuqVNUiHXKNcxJfgvbAzeitoqnQCKSAgdGlI7lVBFHv0N5rnJramQQCIpZi0MO7+D/6v4jdRwii3M+Lg3HopOljmHSWE7llXsfOPmz1CmMwir9FiYmvIsD9X9GgA1PgURUnVYcipY6gkljOZXXmbVATs36/JBP7FbsUk3BHP8LUkchshjbz99BQhrfFJaE5VRep1dJnaBKyLOSMPz2ezgW8A1CHUzjjBdENVlevsBPR25KHcNksZzK4140EHNE6hRVyjVuH37HJHxe/xhPgURUxdYfj5U6gsliOZXH2V+lTlAtZLkZeCJ2IU77LEJHlxSp4xDVWLdSsnAqJkXqGCaJ5VQeZyyjnAo5JBzFD7mT8EPgAajkOqnjENVI287eljqCSWI5ldXt08Bdy7tgmEybjU4xX+GUxzwMcE+QOg5RjcNyKh7LqazOrJU6gaQ0SeexKP1N/Ba4HfZWWqnjENUYsfeycJq79opgOZWFTgecWy91CsnJdFo0i/kBJ2rNwkhPHsglMhZuPRXFciqLGweBdK48hZSp/2Bm8tvYGbgBdVS5UschMntbWU5FsJzK4uJWqROYHBkEAmPW4S/7qZjse03qOERmLfZeFs7Epkgdw6SwnMriyg6pE5gsRcZtvBE/HX/VW4lA2yyp4xCZLW49GWI5lebuVSCZJ0ctjdetP7DdegreDzgndRQis8TjToZYTqW5sl3qBGZDnpWM5+M+wHH/pQh35CmQiMojJpm79h7EcioNd+mVW63bf2K9mIgv6/8NhYwf3iUqq10X4qWOYDJYTo+SkwHcOCR1CrMky72PvrGLcNrnU3StdU/qOERm4fB1XuOpEMvpUf7ZB+RzqHRl2CUcx7LsSfgpcD80inyp4xCZtNMxKcjR8vcEYDk9GnfpGYUsPwePxXyNk+4f4CmeAomoRDlaHU7dTJE6hklgOT3K9T+lTlCjqJOj8EnaZPwe+AcclTwFElFxjnDXHgCWU8kyEoB716VOUePIRD6axqzEMZcZeNk7Ruo4RCbnyPUkqSOYBJZTSW4eljpBjaZMjca7d9/GnsB18FLnSB2HyGScuJGCvHyOcmU5laSGX/HWVATEbMCftv/D275XpI5CZBKy8vL5eSewnErGLadqo7gfj3HxMxFZbwUa8BRIRDj8D487sZyKk5dVcHFBqlYet3YgQjkZ8wPOSB2FSFIcFMFyKt6tE4AuT+oUFkmenYKhcR/ipN8StHJKkzoOkSSORycjXyekjiEpllNxeLxJcs53/sKa/Mn4uv4RngKJLM793Hycj0uVOoakWE7FuXVc6gQEQJZ3H71iP8Np70/Qw5W7OciyRN227D0HLKfixJ+XOgE9wC7xJL7JmoRVgXthq+BWFFmGK/GWfWZ/ltPD8rKAlBtSp6CHyPJz0TbmW5yoPRdD6tyROg5RlbuayHKiByVeAgTfnZsq1b1L+Cj1TWwJ3Ipa1hy0QjUXt5zIUEKU1AmoFDKhQ+OYn3HEaTrGet+UOg5RlYhLzUJmruWeg5Ll9LBElpO5sEq7ial3/4e99dfCm6dAohpGCOBawn2pY0iG5fSwhItSJ6By8o/diD9t3sI0v0tSRyEyqisJ6VJHkAzL6WHcrWeW5JmJGH1nNg4HLEewXabUcYiM4mqC5R53Yjk9KCcDSOVlHMxZnbid2KaYjAUBp6SOQlRpV1hOBODfIeSWfcqQmkCWk4rBcR/hlN9itHW27E/Zk3njlhMVSOFWU03idCcSv2gn47vASCjlfNNB5udmciZytPlSx5AEy+lB3KVX48jyMtE9ZjFOe36E3m68wiiZl3ydQEyyZR5DrVA5BQQEICmp6C96SkoKAgICKh1KMiynGsvm7ml8dX8S1gbu5imQyKzczciVOoIkKlRO0dHRyM8vuqmZk5ODW7duVTqUZNLipE5AVUimy0OrmGU4WXs2nvO4LXUcojK5d98yy8mqPDNv2rRJ///t27fD0dFR/31+fj52794NPz8/o4Wrduk8Z5slsL53Be/LpuCFwKEYcaM3EnOVUkciKlESy6l0AwcOBADIZDKMGDHC4DalUgk/Pz988sknRgtX7dL5btpSyIQOITGrEOl4AJ+qX8WSGD+pIxEVK5nlVDqdrmBfvb+/P44ePQpXV9cqCSUZbjlZHKv0WExJfwdP138CI24NRHSWWupIRAYstZwqdMzp+vXrNa+Y8rKAXMv9TIGl843dhD2atzDTj2cIIdNiqeVUri2nB+3evRu7d+9GQkKCfouq0Pfff1/pYNUux3LPYUUF5Jl38WLmXPQP6IpRic/ibLqt1JGILLacKrTlNHv2bPTs2RO7d+/G3bt3ce/ePYMvs8Ryon+5xe3BJvkkLKp/AjIZP7xL0rLUcqrQltPSpUuxYsUKDBs2zNh5pMNdevQAWU46BsYuQNe6rfFq+kgcTHYs/U5EVcBSy6lCW065ublo166dsbNIK4flREU5xB/BytyJWB54kKdAIkkkZ7Kcyuzll1/GL7/8Yuws0uKWE5VAps1Gl5gvccZzHvq73ZU6DlmYXK0OGTmWd0XcCu3Wy87OxjfffINdu3YhNDQUSqXhhxgXLlxolHDVisecqBSau+ewWD4JLwYOw8jrXZCurfB4IqJyScvKg53Ksta3Cj3bM2fOICwsDABw7tw5g9tkMlmlQ0mCW05UBjKdFs1jluO465+YK38FK+O8pI5EFiBfZ3m7lCtUTnv37jV2DunxmBOVg3XKNczBW3ghcAiG3eyHhByeAomqjiWWEy+ZUUiXJ3UCMjMyCATFrMUhh3fwf3X/kToO1WBaCyynCm05denS5ZG77/bs2VPhQNIx092RJDmr9FuYmP4uBtfvhxFxg/BPJk+BRMalEyynMik83lQoLy8Pp06dwrlz54qcENZsyLgRSZXjE7sVuzSH8ZP7K5hxvZHUcagG0eaznMrk008/LXb6rFmzkJFhpsduWE5kBPKsJAzPeh/P1KmPfAW3oMg45PLvAThIHaNaGXVs4gsvvIBWrVphwYIFxnzY6sFyIiOyTrkqdQSqUSzvmLhR/yJHRkZCrTbTd4vmOgSeiGo+uULqBNWuQltOTz31lMH3Qgjcvn0bx44dw/Tp040SrNpxy4mITJUF/n2qUDk9eHl2AJDL5QgKCsKcOXPQs2dPowSrdhb4wyciMyG3rLNDABUsp+XLlxs7h/QscLOZiMyEyl7qBNWuUnV8/PhxREVFQSaTISQkBM2aNTNWruqnsqyRMERkRizw71OFyikhIQHPPPMM9u3bBycnJwghkJqaii5dumD16tVwc3Mzds6qp3aSOgERUVEKa0BppgPNKqFCB1reeOMNpKWl4fz580hOTsa9e/dw7tw5pKWlYfz48cbOWD3UvJgcEZkgC9xqAiq45RQREYFdu3YhODhYPy0kJARLliwx3wERGiepExARFWWBx5uACm456XS6ItdwAgClUgmdTlfpUJLgbj0iMkVqy9xyqlA5de3aFf/3f/+HuLg4/bRbt25h4sSJ6Natm9HCVSvu1iMiU2Shu/UqVE5ffPEF0tPT4efnh3r16qF+/frw9/dHeno6Fi9ebOyM1cPKGlDaSJ2CiMiQhb5xrtAxJx8fH5w4cQI7d+7ExYsXIYRASEgIunfvbux81UvtBORlSp2CiOg/NrWkTiCJcm057dmzByEhIUhLSwMA9OjRA2+88QbGjx+Pli1bolGjRjhw4ECVBK0WdmY4BJ6IajZHH6kTSKJc5bRo0SKMHj0aDg5F94E6Ojpi7NixWLhwodHCVTsLXQmIyIQ5ekudQBLlKqfTp0+jd+/eJd7es2dPHD9+vNKhJOPkK3UCIiJDLKfSxcfHFzuEvJCVlRUSExMrHUoyTnWlTkBEZIjlVDovLy+cPXu2xNvPnDkDDw+PSoeSjBN36xGRKZEBDl5Sh5BEucqpb9++mDFjBrKzs4vclpWVhZkzZ6J///5GC1ftuOVERKbErnbBx1wskEwIIco6c3x8PMLDw6FQKPD6668jKCgIMpkMUVFRWLJkCfLz83HixAm4u7tXZeaqk50KfMiCIiIT4dUcGL1H6hSSKNfnnNzd3XHo0CGMGzcOU6dORWGvyWQy9OrVC19++aX5FhNQ8GE3lSOQkyp1EiIii96bU+4P4fr6+mLbtm24d+8erl69CiEEAgMD4ezsXBX5qp+zL3DnjNQpiIgAt4ZSJ5BMhS826OzsjJYtWxozi2moHcJyIiLTUDtE6gSSqdC59Wq0Oo2lTkBEVMC9kdQJJMNyepgFrwxEZEKUNoCzv9QpJMNyeph7E6kTEBEBbkGA3HL/RFvuMy+JnRtgZ8YjDomoZqht2XtxWE7FcedxJyKSmLvlDoYAWE7F43EnIpKaBY/UA1hOxavD405EJCUZ4NFU6hCSYjkVx6u51AmIyJLVDgZsXKROISmWU3Fq1QPszfjs6kRk3uq2kTqB5FhOJanbVuoERGSp6raTOoHkWE4l8WsvdQIislTccmI5lciX5UREEnD04YVPwXIqmVtDwKaW1CmIyNJwqwkAy6lkMhmPOxFR9ePfHQAsp0fze0zqBERkafh3BwDL6dH8O0qdgIgsibNfwQlfieX0SO6NLPoyyURUzRr0ljqByWA5laZBH6kTEJGlaNBL6gQmg+VUmiCWExFVA2t7wJfHmwqxnErj9xigcpQ6BRHVdPW6AFbWUqcwGSyn0iiUQGB3qVMQUU3HvTQGWE5lEdRX6gREVJPJ5EBgT6lTmBSWU1nU7w7IlVKnIKKayrslYOsqdQqTwnIqC40TTwRLRFWnyRCpE5gcllNZceUhoqogVwKNB0mdwuSwnMoq+AnASiN1CiKqaQJ7WPxVb4vDciortQNH0xCR8YUOlTqBSWI5lUfTZ6ROQEQ1idqRb3pLwHIqj/rdAbs6UqcgopoiZCBgpZI6hUliOZWHXAE05SY4ERkJ98aUiOVUXmEvSJ2AiGoCJ19eWPARWE7l5dYA8OFllImoklq+VHDFbSoWy6kiWo2WOgERmTOlDRA+XOoUJo3lVBEhAwEHb6lTEJG5Cn0a0DhLncKksZwqQmEFtHpZ6hREZK5avyJ1ApPHcqqo5iMLNs2JiMrDvyNQO1jqFCaP5VRRGmeg6bNSpyAic8OtpjJhOVVGm3EAONqGiMrIyRdowDNClAXLqTJcAwvOGkFEVBatxwJy/tktC75KldXudakTEJE5sHEtOFZNZcJyqqyAzkDddlKnICJT1/Y1wNpW6hRmg+VkDF3ekToBEZkyjTM/vF9OLCdj8O8A+HWQOgURmao2rwIqe6lTmBWWk7F0fVfqBERkijQu/47spfJgORlL3TZAva5SpyAiU9N+PLeaKoDlZExduPVERA+wrQ20Git1CrPEcjIm7+ZAYC+pUxCRqeg4BbDmac4qguVkbN1nAjKF1CmISGpuwUCLUVKnMFssJ2NzbwS0eFHqFEQktd4fFFzBgCqE5VQVukwrGKFDRJapQR8OkKokllNVsHEBuk6TOgURSUFhDfR6X+oUZo/lVFWavwi4N5E6BRFVt9ZjgVr1pE5h9lhOVUWuAPrMlzoFEVUnWzeg41tSp6gRWE5Vya890OgpqVMQUXXpNgNQO0idokZgOVW1nu8B1nZSpyCiqubXAWg2TOoUNQbLqao5egE9ZkudgoiqktIGeGIxIOOVsY2F5VQdWrwE+HeUOoVZmrUvG7LZaQZfdRak62+Pz9Bh5MYseH6SDpv309D7p/u4kpT/yMc8n5CPQWsz4bcoHbLZaVh0OKfIPD+fyYPPp+lwmZ+GKTuyDW6LTtGhweIMpOUI4zxJMn9dpwMu/lKnqFH4CbHqIJMBT3wBfNUOyM2QOo3ZaeQmx67h/50CRvHvm1MhBAauyYJSDvz+jA0cVMDCyFx0X5mJC6/awda6+HexmXlAgJMcQ0KUmLg9u8jtdzN1eHlzFlYM0CDAWY5+v2Sis58C/RooAQDjtmbhw+4qOKj4LpkA+LQGWr8idYoah1tO1cXZl7v3KshKDtSxk+u/3GwLVtsryTocjs3HV/3UaOmlQJCrAl/2UyMjF1h1Lq/Ex2vppcDHPdV4prESqmLONPXPPQFHlQxDGyvR0kuBLv4KXEjUAQB+OZsHa4UMTwUrq+S5kplRqAreeMr5p9TY+IpWJ+7eq5AryTp4fpIO/8/S8cy6TPxzr6AocrQFt6ut/tuCUchlsFYAB28+etfeowS6yJGZJ3Dydj6SswSO3spHqLsCyVkCM/Zm44s+6ko9H6pBOr8NuDWQOkWNxHKqToW79zh6r8xaeynw40ANtr9gg28f1+BOhkC7ZfeRlKlDQ1c5fB1lmLo7G/eyBHLzBT48mIM7GQK3M3QVXqazRoYfBmowfGMWWn2bgeFNlehV3wpv7sjGG62scT1Fh2ZfZ6DxlxlYd6HkLTSq4TzCgHb/J3WKGovHnKqbsy/QYw6wdZLUScxCn8D/dp81AdDWW4F6n2fgh9N5mNRWhfVP2+ClTVlw+SgdChnQPUCBPvUrv1o/GazEkw/sutsXrcXZhHx80VeN+p9nYNUgDerYydDqu/vo6KtAbVu+z7Mo1nbAoO94YtcqxFdWCi1fAv7ZB0RtkjqJ2bG1lqGJuxxXkgq2jJp7KnDqFTukZhdsObnZytH6uwy08DDeZUtytAKvbs3GT09pcDVZB60O6ORX8KvToJYcR2Lz8XgQy8mi9FsIuAZKnaJG42+UVAZ8ATj7SZ3C7ORoBaISdfCwN1x1HdUyuNnKcSUpH8fidBjQ0HgDFub+mYM+9a0Q7qFAvg7Q6v4bQp6XD+RzRLllCXseaDpU6hQ1HrecpKJ2BIb8ACzrCeQX/ZwNFXhzRzYeb2CFuo5yJNzX4b0DuUjLERjRtKB8fj2fBzdbGeo6ynE2Ph//F5GNgQ2t0LPef6v28N+y4GUvw7zuBQMZcvOFfvRdbj5wK03g1J182FnLUN/FsPTOJ+RjzXktTo21BQA0dJVDLpNh2Ylc1LGT4eJdHVp68uKSFsOtIdB3gdQpLALLSUqeYQWn1t/2ptRJTFZsmg7Prs/C3UwBN1sZ2ngrcPhlW/g6FZTI7QwdJu3IRXyGgIe9DMNDlZjeSWXwGDdTdZDL/iuduHSBZl/f13+/IDIXCyJz0clXgX0jbfXThRAYsyUbn/ZS6T8zpVHKsGKgGq9ty0aOFviirxpeDtwBYRGsNMCQFbzsejWRCSG4U0Jqv44Ezv8mdQoiepTHPweaj5A6hcXgWz5T8PjngEuA1CmIqCRNhrCYqhnLyRSoHQqOPym5u4DI5Hg2KzipK1UrlpOp8AgFnvoGAM/XRmQy7D2BZ1YBSo3USSwOy8mUBD8OdJ8pdQoiAgr2ZDz7C+DgIXUSi8RyMjWPTQSavSB1CiILJwMGflWwS48kwXIyRf0XFVxVk4ik0eUdoNFAqVNYNJaTKVIogad/BFzqSZ2EyPI0GQJ0ekvqFBaP5WSqbFyA538FNM5SJyGyHL7tC64cQJJjOZmyWvWA59YCStvS5yWiyvEIA55dDSh5vS5TwHIydT6tgGdXAVb8hSGqMm4NgWG/FXzmkEwCy8kcBHQqOAYl56XBiYzOyRcYtrFgVzqZDJaTuWjQCxj0LSDjGbCJjMauDjD8d36WyQSxnMxJoycLrgPFs0gQVZ7GBRi+EXDxlzoJFYPlZG7CngP6fix1CiLzpnYEXlgH1A6WOgmVgOVkjlqNBnrNkzoFkXmycQVGbAG8mkudhB6B13MyZ8dXAFsmAkIndRIi82DvWXCMya2B1EmoFCwnc3dmLbBxHKDTSp2EyLQ5+wHDNwHOvlInoTJgOdUEF7cB614EtNlSJyEyTW4NC4aLc1Se2WA51RTRfwGrngVyUqVOQmRaPJoCL/wG2NaSOgmVA8upJrlzFvhpEJARL3USItPg1wF45ueC0XlkVlhONc29aOCXZ4DEKKmTEEmr2TCg/6cFZ/kns8Nyqoly0oF1LwFXtkudhKj6yeRA99lA+/FSJ6FKYDnVVDodsGsGcGix1EmIqo/SFhj0HdCwr9RJqJJYTjXdyZ+BLROA/FypkxBVLQfvgjP4e4RKnYSMgOVkCW4eBlY/D2TelToJUdXwDC+4FpO9u9RJyEhYTpYi5Saw+rmCEX1ENUn4CKDPR7xIYA3DcrIk2hxg+zTg6LdSJyGqPKUN0G8hEPas1EmoCrCcLFHUZuD314HsFKmTEFWMawNgyA+Ae4jUSaiKsJwsVcrNguHmsX9LnYSofJq9APT5GLC2kToJVSGWkyXL1wJ73wMOLgLA1YBMnMqh4EO1TQZLnYSqAcuJgGt7gN/GARl3pE5CVDy/DgVXgXb2kzoJVROWExXISikYLHHqJ6mTEP3H2h7oMRtoMQqQyaROQ9WI5USGru4GNk8AUm9KnYQsXUAX4InPAae6UichCbCcqKicDGD3nIIh57zKLlU3lSPQ6z0gfLjUSUhCLCcq2c3DwKY3gLuXpU5CliKwJ9B/EeDoJXUSkhjLiR5NmwMc+AT463NAmyV1GqqpnP2Anu8Dwf2lTkImguVEZZMSA+yaCZxbL3USqkms7YAOk4C2rwNWKqnTkAlhOVH53DwCRPwPiDshdRIyazIgdCjQfRbg4CF1GDJBLCcqPyGA06uB3bOB9NtSpyFz49W84ESt3i2kTkImjOVEFZd7H/jrMyDySyA3Xeo0ZOpcGwCd3gYaD+JnlqhULCeqvMxkIPIL4Mg3LCkqyqVeQSk1GQLI5VKnITPBciLjyUwGDn8JHPkayEmTOg1JzSUA6PgWEPo0IFdInYbMDMuJjC/rXsGuviNfAzmpUqeh6ubsB3ScAoQ+AyispE5DZorlRFUnKwX4+xvg6DKeVNYSeLcC2rwCBA9gKVGlsZyo6uXnARd+L9iS4vWjaha5Emg0EGgzrmAUHpGRsJyoesWdLBg4cW49kJ8jdRqqKBtXoMWLQIuX+DklqhIsJ5LG/bvA8RXAseVAWqzUaahMZEDdNgVXom08GFCqpQ5ENRjLiaSl0wE3DgJn1gAXNnMAhSly9geaPlNwRgcXf6nTkIVgOZHpyMsGLv8BnF4DXN0F6PKkTmS51I5AoyeBps8WbC0RVTOWE5mmzOSC41Ln1gMxR3hdqeqgdgTq9wCCHweC+vBErCQplhOZvvt3gcsRwKU/gGt7gbz7UieqOZz9C4ooqA9Qtx2HgJPJYDmRedHmANEHC3b7Xd3FCyGWl0xRcMLVoD5Agz5A7YZSJyIqFsuJzNu9G8CNQ8DNyILdf4mXAHCV1lOoCj5/5NsO8G0L+LQGVPZSpyIqFcuJapbM5IKSunm44CvupGV9nkrlAHi3/LeM2hUUE48dkRliOVHNps0B4s8DCVFAwoX//jX761DJAEcfoHYwUKdJwZdHaMExJF6OgmoAlhNZpqx7/xVV4iUgNbbgK+0WkJkkdboCMgXg4FlQQo7egJNPQfnUDgbcgrh7jmo0lhPRw/KygLS4/8oq9RZwPxHISS+4FEhOetGvYkcQyv7divl3S8ZKVbDbTe3479cD/1c5ABonwN6zoIQcvQv+z9FzZKFYTkTGUPhrxF1qREbBt2VExsBSIjIqXjOZjCI6OhoymQynTp2SOgoR1QAspyoycuRIyGQyfPjhhwbTN27cCBnfZRMRPRLLqQqp1WrMnz8f9+7dkzqKWcrL44lfiSwVy6kKde/eHXXq1MG8efNKnGf9+vVo1KgRVCoV/Pz88Mknnxjc7ufnhw8++ACjRo2Cvb096tati2+++eaRy7137x6ef/55uLm5QaPRIDAwEMuXLwfw3+63tWvXokOHDtBoNGjZsiUuX76Mo0ePokWLFrCzs0Pv3r2RmJiof0ydToc5c+bA29sbKpUKYWFhiIiIKDGDTqfD6NGj0aBBA9y4cQMAsHnzZjRv3hxqtRoBAQGYPXs2tFqt/j4ymQxLly7FgAEDYGtri/fee++Rz5OIajBBVWLEiBFiwIABYsOGDUKtVouYmBghhBC//fabKHzZjx07JuRyuZgzZ464dOmSWL58udBoNGL58uX6x/H19RUuLi5iyZIl4sqVK2LevHlCLpeLqKioEpf92muvibCwMHH06FFx/fp1sXPnTrFp0yYhhBDXr18XAETDhg1FRESEuHDhgmjTpo0IDw8XnTt3FgcPHhQnTpwQ9evXF6+88or+MRcuXCgcHBzEqlWrxMWLF8Vbb70llEqluHz5ssHjnjx5UuTk5IhBgwaJsLAwER8fL4QQIiIiQjg4OIgVK1aIa9euiR07dgg/Pz8xa9Ys/TIAiNq1a4tly5aJa9euiejoaOP8MIjI7LCcqkhhOQkhRJs2bcSoUaOEEIbl9Nxzz4kePXoY3G/KlCkiJCRE/72vr6944YUX9N/rdDpRu3Zt8dVXX5W47Mcff1y8+OKLxd5WWCLfffedftqqVasEALF79279tHnz5omgoCD9956enuL99983eKyWLVuKV1991eBxDxw4ILp37y7at28vUlJS9PN26NBBfPDBBwb3X7lypfDw8NB/D0BMmDChxOdFRJaDu/Wqwfz58/HDDz/gwoULBtOjoqLQvn17g2nt27fHlStXkJ+fr58WGhqq/79MJkOdOnWQkJAAAOjTpw/s7OxgZ2eHRo0aAQDGjRuH1atXIywsDG+99RYOHTpUJNODj+nu7g4AaNKkicG0wmWkpaUhLi6u2KxRUVEG05599llkZGRgx44dcHR01E8/fvw45syZo89qZ2eH0aNH4/bt28jMzNTP16JFiyJZicjysJyqQceOHdGrVy+88847BtOFEEVG7oliPhOtVCoNvpfJZNDpCi6+99133+HUqVM4deoUtm3bBqCgsG7cuIEJEyYgLi4O3bp1w5tvvlniYxZmeHha4TIenu9R+fv27YszZ87g8OHDBtN1Oh1mz56tz3rq1CmcPXsWV65cgVqt1s9na2tb5PkTkeXhh3CryYcffoiwsDA0aNBAPy0kJAQHDx40mO/QoUNo0KABFApFmR7Xy8ur2Olubm4YOXIkRo4ciQ4dOmDKlClYsGBBhbI7ODjA09MTBw8eRMeOHQ2ytmrVymDecePGoXHjxnjiiSewdetWdOrUCQAQHh6OS5cuoX79+hXKQESWheVUTZo0aYLnn38eixcv1k+bPHkyWrZsiblz52Lo0KGIjIzEF198gS+//LJSy5oxYwaaN2+ORo0aIScnB1u2bEFwcHClHnPKlCmYOXMm6tWrh7CwMCxfvhynTp3Czz//XGTeN954A/n5+ejfvz/++OMPPPbYY5gxYwb69+8PHx8fDBkyBHK5HGfOnMHZs2c5Ko+IimA5VaO5c+di7dq1+u/Dw8Oxdu1azJgxA3PnzoWHhwfmzJmDkSNHVmo51tbWmDp1KqKjo6HRaNChQwesXr26Uo85fvx4pKWlYfLkyUhISEBISAg2bdqEwMDAYuefMGECdDod+vbti4iICPTq1QtbtmzBnDlz8NFHH0GpVKJhw4Z4+eWXK5WLiGomnviViIhMDgdEEBGRyWE5ERGRyWE5ERGRyWE5ERGRyWE5ERGRyWE5ERGRyWE5ERGRyWE5ERGRyWE5ERGRyWE5ERGRyWE5ERGRyWE5ERGRyWE5ERGRyWE5ERGRyWE5ERGRyWE5ERGRyWE5ERGRyWE5ERGRyWE5ERGRyWE5ERGRyWE5ERGRyWE5ERGRyWE5ERGRyWE5ERGRyWE5ERGRyWE5ERGRyWE5ERGRyWE5ERGRyWE5ERGRyWE5ERGRyWE5ERGRyWE5ERGRyWE5ERGRyfl/+fSLBqR6dHUAAAAASUVORK5CYII=",
      "text/plain": [
       "<Figure size 640x480 with 1 Axes>"
      ]
     },
     "metadata": {},
     "output_type": "display_data"
    }
   ],
   "source": [
    "smoker_count = (female_df['currentSmoker'] == 1).sum()\n",
    "non_smoker_count = (female_df['currentSmoker'] == 0).sum()\n",
    "print(f'Female Smoker: {smoker_count}')\n",
    "print(f'Female Non-smoker: {non_smoker_count}')\n",
    "print(f'Total Female population: {smoker_count+non_smoker_count}')\n",
    "labels = ['Smoker', 'Non-smoker']\n",
    "sizes = [smoker_count, non_smoker_count]\n",
    "smoker_population_df = pd.DataFrame({'currentSmoker': labels, 'Count': sizes})\n",
    "smoker_population_df.plot.pie(y='Count', labels=smoker_population_df['currentSmoker'], autopct='%1.1f%%', legend=False)\n",
    "plt.title('Female Distribution of Smoker and Non-Smoker')\n",
    "plt.show()"
   ]
  },
  {
   "cell_type": "code",
   "execution_count": null,
   "metadata": {},
   "outputs": [],
   "source": []
  },
  {
   "cell_type": "code",
   "execution_count": null,
   "metadata": {},
   "outputs": [],
   "source": []
  },
  {
   "cell_type": "code",
   "execution_count": null,
   "metadata": {},
   "outputs": [],
   "source": []
  },
  {
   "cell_type": "code",
   "execution_count": null,
   "metadata": {},
   "outputs": [],
   "source": []
  },
  {
   "cell_type": "code",
   "execution_count": null,
   "metadata": {},
   "outputs": [],
   "source": []
  },
  {
   "cell_type": "code",
   "execution_count": null,
   "metadata": {},
   "outputs": [],
   "source": []
  },
  {
   "cell_type": "code",
   "execution_count": null,
   "metadata": {},
   "outputs": [],
   "source": []
  },
  {
   "cell_type": "code",
   "execution_count": null,
   "metadata": {},
   "outputs": [],
   "source": []
  },
  {
   "cell_type": "code",
   "execution_count": null,
   "metadata": {},
   "outputs": [],
   "source": []
  },
  {
   "cell_type": "code",
   "execution_count": null,
   "metadata": {},
   "outputs": [],
   "source": []
  },
  {
   "cell_type": "markdown",
   "metadata": {},
   "source": [
    "# BPMeds Analysis\n",
    "Analysis here is based on certain key variables such as age, blood pressure medication usage (BPMeds), and the incidence of Ten Year CHD.\n",
    "\n",
    "### Analysis\n",
    "1. Approximately 15% of the Framingham Dataset has the incidence of Ten Year CHD (Coronary Heart Disease)\n",
    "2. 3% of individuals reported using the Blood Pressure Medications, among with 1% have the incidence of CHD\n",
    "3. With a small p-value (e.g., 3.10e-08), we reject the null hypothesis. Meaning there is significant association between the bpmeds and TenYearCHD variables, and individuals taking bpmeds may have a different risk of developing CHD within ten years compared to those not taking medication.\n",
    "4. High CHi Square (30.65) shows the a stronger association between the variables\n",
    "\n",
    "### Age - BPMeds - TenYearCHD Analyis\n",
    "1. The majority of individuals in this dataset fall within the age range of 30 to 70 years.\n",
    "2. The distribution of age in the dataset is relatively normal, mean age is approximately 49 years\n",
    "3. The p-value on a T-test is less than 0.05, it means that there is statistically significant difference between the mean ages of the two populations, and the age distribution of individuals on blood pressure medication differs significantly from those not on medication."
   ]
  },
  {
   "cell_type": "code",
   "execution_count": null,
   "metadata": {},
   "outputs": [],
   "source": [
    "bpmeds_df = heart_analysis_df[[\"BPMeds\",\"TenYearCHD\"]]\n",
    "# drop null values\n",
    "bpmeds_df = bpmeds_df.dropna()\n",
    "bpmeds_df\n"
   ]
  },
  {
   "cell_type": "code",
   "execution_count": null,
   "metadata": {},
   "outputs": [],
   "source": [
    "# Percentage of TenYearCHD in the dataset\n",
    "chd_percentage = round( bpmeds_df[bpmeds_df[\"TenYearCHD\"] == 1][\"TenYearCHD\"].count() / bpmeds_df[\"TenYearCHD\"].count() * 100 , 2)\n",
    "chd_percentage\n",
    "print(f\"Approximately {chd_percentage}% of the dataset has the incidence of Ten Year CHD\")\n",
    "\n",
    "# Group data by bpmeds and TenYearCHD and count occurrences\n",
    "bpmeds_chd_counts = bpmeds_df.groupby(['BPMeds', 'TenYearCHD']).size().unstack()\n",
    "\n",
    "# Count the number of individuals on bpmeds\n",
    "bpmeds_counts = bpmeds_df['BPMeds'].value_counts()\n",
    "\n",
    "# Plotting\n",
    "labels = ['No BP Meds\\nNo CHD', 'No BP Meds\\nCHD', 'BP Meds\\nNo CHD', 'BP Meds\\nCHD']\n",
    "\n",
    "fig, ax = plt.subplots(figsize=(8, 8))\n",
    "ax.pie(bpmeds_chd_counts.values.flatten(), labels=labels, autopct='%1.1f%%', startangle=180,textprops={'rotation': 5})\n",
    "ax.axis('equal')  # Equal aspect ratio ensures that pie is drawn as a circle.\n",
    "\n",
    "plt.title('Effect of BP Medication on Ten Year CHD')\n",
    "plt.show()\n"
   ]
  },
  {
   "cell_type": "code",
   "execution_count": null,
   "metadata": {},
   "outputs": [],
   "source": [
    "bpmeds_chd_counts = bpmeds_df.groupby(['BPMeds', 'TenYearCHD']).size().unstack()\n",
    "print(bpmeds_chd_counts)\n",
    "\n",
    "# Plot the relationship between BPMeds and TenYearCHD using matplotlib\n",
    "plt.figure(figsize=(6,4))\n",
    "bpmeds_chd_counts.plot(kind='bar', stacked=True)\n",
    "plt.title('Relationship between Blood Pressure Medication Usage and Ten Year CHD')\n",
    "plt.xlabel('BPMeds')\n",
    "plt.ylabel('Number of Individuals')\n",
    "plt.xticks(ticks=[0,1], labels=['No Medication', 'Medication'])\n",
    "plt.legend(title='Ten Year CHD (0 = No, 1 = Yes)', loc='upper right')\n",
    "plt.show()"
   ]
  },
  {
   "cell_type": "code",
   "execution_count": null,
   "metadata": {},
   "outputs": [],
   "source": [
    "# Age - BPMeds - TenYearCHD\n",
    "bpmeds_age_chd_df = heart_analysis_df[[\"BPMeds\", \"TenYearCHD\", \"age\"]]\n",
    "\n",
    "#Drop null values\n",
    "bpmeds_age_chd_df = bpmeds_age_chd_df.dropna()"
   ]
  },
  {
   "cell_type": "code",
   "execution_count": null,
   "metadata": {},
   "outputs": [],
   "source": [
    "\n",
    "# Plot age distribution\n",
    "plt.hist(bpmeds_age_chd_df['age'], bins=20, color='skyblue', edgecolor='black')\n",
    "plt.title('Age Distribution')\n",
    "plt.xlabel('Age')\n",
    "plt.ylabel('Frequency')\n",
    "plt.show()\n",
    "\n",
    "# Average Age in the given dataset with BPMeds\n",
    "average_age = bpmeds_age_chd_df[\"age\"].mean()\n",
    "print(average_age)\n"
   ]
  },
  {
   "cell_type": "code",
   "execution_count": null,
   "metadata": {},
   "outputs": [],
   "source": [
    "\n",
    "bin_edges = [30, 40, 50, 60, 70]\n",
    "age_bins = pd.cut(bpmeds_age_chd_df['age'], bins=bin_edges)\n",
    "\n",
    "# Calculate counts of TenYearCHD for each age group and BPMeds\n",
    "age_bpmeds_chd_counts = bpmeds_age_chd_df.groupby([age_bins, 'BPMeds', 'TenYearCHD']).size().unstack()\n",
    "\n",
    "# Plot the grouped bar plot\n",
    "plt.figure(figsize=(10,6))\n",
    "age_bpmeds_chd_counts.plot(kind='bar', stacked=True, ax=plt.gca())\n",
    "plt.title('Distribution of Ten Year CHD by Age and Blood Pressure Medication Usage')\n",
    "plt.xlabel('Age Group')\n",
    "plt.ylabel('Count')\n",
    "plt.xticks(rotation=45)\n",
    "plt.legend(title='Ten Year CHD ( 0 = No, 1 = Yes)', loc='upper right')\n",
    "plt.show()"
   ]
  },
  {
   "cell_type": "code",
   "execution_count": null,
   "metadata": {},
   "outputs": [],
   "source": [
    "# calculate the population mean for BPMeds usage\n",
    "bpmeds_population = bpmeds_age_chd_df[bpmeds_age_chd_df[\"BPMeds\"] == 1]\n",
    "bpmeds_population.age.mean()\n",
    "\n",
    "no_bpmeds_population = bpmeds_age_chd_df[bpmeds_age_chd_df[\"BPMeds\"] == 0]\n",
    "no_bpmeds_population.age.mean()\n",
    "\n",
    "# Calculate Independent (Two Sample) t-test\n",
    "stats.ttest_ind(bpmeds_population.age, no_bpmeds_population.age, equal_var=False)"
   ]
  },
  {
   "cell_type": "code",
   "execution_count": null,
   "metadata": {},
   "outputs": [],
   "source": [
    "# Contingency table\n",
    "contingency_table = pd.crosstab(bpmeds_df['BPMeds'], bpmeds_df['TenYearCHD'])\n",
    "\n",
    "# Perform chi-square test\n",
    "chi2, p, dof, expected = chi2_contingency(contingency_table)\n",
    "\n",
    "print(\"Chi-square statistic:\", chi2)\n",
    "print(\"p-value:\", p)"
   ]
  },
  {
   "cell_type": "code",
   "execution_count": null,
   "metadata": {},
   "outputs": [],
   "source": []
  },
  {
   "cell_type": "code",
   "execution_count": null,
   "metadata": {},
   "outputs": [],
   "source": []
  },
  {
   "cell_type": "code",
   "execution_count": null,
   "metadata": {},
   "outputs": [],
   "source": []
  },
  {
   "cell_type": "markdown",
   "metadata": {},
   "source": [
    "## Tianyue's Section"
   ]
  },
  {
   "cell_type": "code",
   "execution_count": null,
   "metadata": {},
   "outputs": [],
   "source": [
    "print('This is your teammates Tianyue\\'s Section')"
   ]
  },
  {
   "cell_type": "code",
   "execution_count": null,
   "metadata": {},
   "outputs": [],
   "source": []
  },
  {
   "cell_type": "code",
   "execution_count": null,
   "metadata": {},
   "outputs": [],
   "source": []
  },
  {
   "cell_type": "code",
   "execution_count": null,
   "metadata": {},
   "outputs": [],
   "source": []
  },
  {
   "cell_type": "code",
   "execution_count": null,
   "metadata": {},
   "outputs": [],
   "source": []
  },
  {
   "cell_type": "code",
   "execution_count": null,
   "metadata": {},
   "outputs": [],
   "source": []
  },
  {
   "cell_type": "code",
   "execution_count": null,
   "metadata": {},
   "outputs": [],
   "source": []
  },
  {
   "cell_type": "code",
   "execution_count": null,
   "metadata": {},
   "outputs": [],
   "source": []
  },
  {
   "cell_type": "code",
   "execution_count": null,
   "metadata": {},
   "outputs": [],
   "source": []
  },
  {
   "cell_type": "code",
   "execution_count": null,
   "metadata": {},
   "outputs": [],
   "source": []
  },
  {
   "cell_type": "code",
   "execution_count": null,
   "metadata": {},
   "outputs": [],
   "source": []
  }
 ],
 "metadata": {
  "kernelspec": {
   "display_name": "dev",
   "language": "python",
   "name": "python3"
  },
  "language_info": {
   "codemirror_mode": {
    "name": "ipython",
    "version": 3
   },
   "file_extension": ".py",
   "mimetype": "text/x-python",
   "name": "python",
   "nbconvert_exporter": "python",
   "pygments_lexer": "ipython3",
   "version": "3.10.13"
  }
 },
 "nbformat": 4,
 "nbformat_minor": 2
}

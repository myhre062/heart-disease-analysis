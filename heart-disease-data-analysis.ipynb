{
 "cells": [
  {
   "cell_type": "code",
   "execution_count": null,
   "metadata": {},
   "outputs": [],
   "source": [
    "from pathlib import Path\n",
    "import pandas as pd\n",
    "import matplotlib.pyplot as plt\n",
    "import scipy.stats as stats\n",
    "\n",
    "\n",
    "csv_file = Path('Resources/framingham.csv')\n",
    "\n",
    "heart_analysis_df = pd.read_csv(csv_file)\n",
    "\n",
    "heart_analysis_df"
   ]
  },
  {
   "cell_type": "markdown",
   "metadata": {},
   "source": [
    "## Male vs Female Population\n",
    "\n",
    "### Analysis:"
   ]
  },
  {
   "cell_type": "code",
   "execution_count": null,
   "metadata": {},
   "outputs": [],
   "source": [
    "male_count = (heart_analysis_df['male'] == 1).sum()\n",
    "female_count = (heart_analysis_df['male'] == 0).sum()\n",
    "print(f'males: {male_count}')\n",
    "print(f'females: {female_count}')\n",
    "print(f'total population: {male_count+female_count}')\n",
    "labels = ['female', 'male']\n",
    "sizes = [female_count, male_count]\n",
    "sex_population_df = pd.DataFrame({'Sex': labels, 'Count': sizes})\n",
    "sex_population_df.plot.pie(y='Count', labels=sex_population_df['Sex'], autopct='%1.1f%%', legend=False)\n",
    "plt.title('Distribution of Male and Female')\n",
    "plt.show()"
   ]
  },
  {
   "cell_type": "code",
   "execution_count": null,
   "metadata": {},
   "outputs": [],
   "source": [
    "diabetes_count = (heart_analysis_df['diabetes'] == 1).sum()\n",
    "non_diabetes_count = (heart_analysis_df['diabetes'] == 0).sum()\n",
    "print(f'Diabetes: {diabetes_count}')\n",
    "print(f'Non-diabetic: {non_diabetes_count}')\n",
    "print(f'Total population: {diabetes_count+non_diabetes_count}')\n",
    "labels = ['Diabetes', 'Non-diabetic']\n",
    "sizes = [diabetes_count, non_diabetes_count]\n",
    "diabetes_population_df = pd.DataFrame({'diabetes': labels, 'Count': sizes})\n",
    "diabetes_population_df.plot.pie(y='Count', labels=diabetes_population_df['diabetes'], autopct='%1.1f%%', legend=False, startangle=90)\n",
    "plt.title('Distribution of Diabetes and Non-diabetic')\n",
    "plt.show()"
   ]
  },
  {
   "cell_type": "code",
   "execution_count": null,
   "metadata": {},
   "outputs": [],
   "source": [
    "contingency_table = pd.crosstab(heart_analysis_df['diabetes'], heart_analysis_df['TenYearCHD'])\n",
    "\n",
    "# Perform the Chi-square test\n",
    "chi2, p_value, dof, expected = stats.chi2_contingency(contingency_table)\n",
    "\n",
    "# Output the results\n",
    "print(f\"Chi-square statistic: {chi2}\")\n",
    "print(f\"P-value: {p_value}\")\n",
    "print(f\"Degrees of freedom: {dof}\")\n",
    "print(f\"Expected frequencies:\\n{expected}\")"
   ]
  },
  {
   "cell_type": "code",
   "execution_count": null,
   "metadata": {},
   "outputs": [],
   "source": [
    "smoker_count = (heart_analysis_df['currentSmoker'] == 1).sum()\n",
    "non_smoker_count = (heart_analysis_df['currentSmoker'] == 0).sum()\n",
    "print(f'Diabetes: {smoker_count}')\n",
    "print(f'Non-diabetic: {non_smoker_count}')\n",
    "print(f'Total population: {smoker_count+non_smoker_count}')\n",
    "labels = ['Smoker', 'Non-smoker']\n",
    "sizes = [smoker_count, non_smoker_count]\n",
    "smoker_population_df = pd.DataFrame({'currentSmoker': labels, 'Count': sizes})\n",
    "smoker_population_df.plot.pie(y='Count', labels=smoker_population_df['currentSmoker'], autopct='%1.1f%%', legend=False)\n",
    "plt.title('Distribution of Smoker and Non-Smoker')\n",
    "plt.show()"
   ]
  },
  {
   "cell_type": "code",
   "execution_count": null,
   "metadata": {},
   "outputs": [],
   "source": [
    "male_df = heart_analysis_df[heart_analysis_df['male'] == 1]\n",
    "smoker_count = (male_df['currentSmoker'] == 1).sum()\n",
    "non_smoker_count = (male_df['currentSmoker'] == 0).sum()\n",
    "print(f'Diabetes: {smoker_count}')\n",
    "print(f'Non-diabetic: {non_smoker_count}')\n",
    "print(f'Total population: {smoker_count+non_smoker_count}')\n",
    "labels = ['Smoker', 'Non-smoker']\n",
    "sizes = [smoker_count, non_smoker_count]\n",
    "smoker_population_df = pd.DataFrame({'currentSmoker': labels, 'Count': sizes})\n",
    "smoker_population_df.plot.pie(y='Count', labels=smoker_population_df['currentSmoker'], autopct='%1.1f%%', legend=False)\n",
    "plt.title('Male Distribution of Smoker and Non-Smoker')\n",
    "plt.show()"
   ]
  },
  {
   "cell_type": "code",
   "execution_count": null,
   "metadata": {},
   "outputs": [],
   "source": [
    "female_df = heart_analysis_df[heart_analysis_df['male'] == 0]\n",
    "smoker_count = (female_df['currentSmoker'] == 1).sum()\n",
    "non_smoker_count = (female_df['currentSmoker'] == 0).sum()\n",
    "print(f'Diabetes: {smoker_count}')\n",
    "print(f'Non-diabetic: {non_smoker_count}')\n",
    "print(f'Total population: {smoker_count+non_smoker_count}')\n",
    "labels = ['Smoker', 'Non-smoker']\n",
    "sizes = [smoker_count, non_smoker_count]\n",
    "smoker_population_df = pd.DataFrame({'currentSmoker': labels, 'Count': sizes})\n",
    "smoker_population_df.plot.pie(y='Count', labels=smoker_population_df['currentSmoker'], autopct='%1.1f%%', legend=False)\n",
    "plt.title('Female Distribution of Smoker and Non-Smoker')\n",
    "plt.show()"
   ]
  },
  {
   "cell_type": "code",
   "execution_count": null,
   "metadata": {},
   "outputs": [],
   "source": [
    "\n",
    "education_counts_df = heart_analysis_df\n",
    "\n",
    "education_counts_df['education'] = education_counts_df['education'].astype(str)\n",
    "\n",
    "education_counts_df['education'] = education_counts_df['education'].replace('nan', 'Not Specified')\n",
    "\n",
    "education_counts_df = education_counts_df['education'].value_counts().sort_index()\n",
    "\n",
    "education_counts_df.plot(kind='bar')\n",
    "plt.title('Education Level Distribution')\n",
    "plt.xlabel('Education Level')\n",
    "plt.ylabel('Number of Individuals')\n",
    "plt.xticks(rotation=0) \n",
    "plt.show()"
   ]
  },
  {
   "cell_type": "code",
   "execution_count": null,
   "metadata": {},
   "outputs": [],
   "source": [
    "# Create a histogram for the age distribution\n",
    "age_histogram = heart_analysis_df\n",
    "plt.hist(age_histogram['age'], bins=10, edgecolor='black') \n",
    "plt.title('Age Histogram')\n",
    "plt.xlabel('Age')\n",
    "plt.ylabel('Number of people')\n",
    "plt.grid(axis='y', alpha=0.75) \n",
    "\n",
    "plt.show()"
   ]
  },
  {
   "cell_type": "code",
   "execution_count": null,
   "metadata": {},
   "outputs": [],
   "source": [
    "number_of_male_TYCHD = male_df[male_df['TenYearCHD'] == 1]['TenYearCHD'].sum()\n",
    "number_of_female_TYCHD = female_df[female_df['TenYearCHD'] == 1]['TenYearCHD'].sum()\n",
    "\n",
    "male_percentage = round((number_of_male_TYCHD/male_df[\"TenYearCHD\"].count()) * 100, 2)\n",
    "female_percentage = round((number_of_female_TYCHD/female_df[\"TenYearCHD\"].count()) * 100, 2)\n",
    "\n",
    "print(f'Male % of heart disease: {male_percentage}%')\n",
    "print(f'Female % of heart disease: {female_percentage}%')"
   ]
  },
  {
   "cell_type": "markdown",
   "metadata": {},
   "source": [
    "## Atuls's Section"
   ]
  },
  {
   "cell_type": "code",
   "execution_count": null,
   "metadata": {},
   "outputs": [],
   "source": [
    "print('This is your teammates Atul\\'s Section')"
   ]
  },
  {
   "cell_type": "markdown",
   "metadata": {},
   "source": [
    "## Ezrelle's Section"
   ]
  },
  {
   "cell_type": "code",
   "execution_count": null,
   "metadata": {},
   "outputs": [],
   "source": [
    "print('This is your teammates Ezrelle\\'s Section')"
   ]
  },
  {
   "cell_type": "markdown",
   "metadata": {},
   "source": [
    "## Indu's Section"
   ]
  },
  {
   "cell_type": "code",
   "execution_count": null,
   "metadata": {},
   "outputs": [],
   "source": [
    "print('This is your teammates Indu\\'s Section')"
   ]
  },
  {
   "cell_type": "code",
   "execution_count": null,
   "metadata": {},
   "outputs": [],
   "source": [
    "print(\"test markdown\")"
   ]
  },
  {
   "cell_type": "markdown",
   "metadata": {},
   "source": [
    "## Tianyue's Section"
   ]
  },
  {
   "cell_type": "code",
   "execution_count": null,
   "metadata": {},
   "outputs": [],
   "source": [
    "print('This is your teammates Tianyue\\'s Section')"
   ]
  }
 ],
 "metadata": {
  "kernelspec": {
   "display_name": "dev",
   "language": "python",
   "name": "python3"
  },
  "language_info": {
   "codemirror_mode": {
    "name": "ipython",
    "version": 3
   },
   "file_extension": ".py",
   "mimetype": "text/x-python",
   "name": "python",
   "nbconvert_exporter": "python",
   "pygments_lexer": "ipython3",
   "version": "3.10.13"
  }
 },
 "nbformat": 4,
 "nbformat_minor": 2
}

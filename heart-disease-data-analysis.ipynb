{
 "cells": [
  {
   "cell_type": "code",
   "execution_count": null,
   "metadata": {},
   "outputs": [],
   "source": [
    "from pathlib import Path\n",
    "import pandas as pd\n",
    "import matplotlib.pyplot as plt\n",
    "import scipy.stats as stats\n",
    "\n",
    "\n",
    "csv_file = Path('Resources/framingham.csv')\n",
    "\n",
    "heart_analysis_df = pd.read_csv(csv_file)\n",
    "\n",
    "heart_analysis_df"
   ]
  },
  {
   "cell_type": "markdown",
   "metadata": {},
   "source": [
    "## Male vs Female Population\n",
    "\n",
    "### Analysis:"
   ]
  },
  {
   "cell_type": "code",
   "execution_count": null,
   "metadata": {},
   "outputs": [],
   "source": [
    "male_count = (heart_analysis_df['male'] == 1).sum()\n",
    "female_count = (heart_analysis_df['male'] == 0).sum()\n",
    "print(f'males: {male_count}')\n",
    "print(f'females: {female_count}')\n",
    "print(f'total population: {male_count+female_count}')\n",
    "labels = ['female', 'male']\n",
    "sizes = [female_count, male_count]\n",
    "sex_population_df = pd.DataFrame({'Sex': labels, 'Count': sizes})\n",
    "sex_population_df.plot.pie(y='Count', labels=sex_population_df['Sex'], autopct='%1.1f%%', legend=False)\n",
    "plt.title('Distribution of Male and Female')\n",
    "plt.show()"
   ]
  },
  {
   "cell_type": "markdown",
   "metadata": {},
   "source": [
    "## Diabetes and Heart Disease\n",
    "\n",
    "### Analysis:\n",
    "\n",
    "The correlation between diabetes and the risk of developing coronary heart disease (CHD) over ten years reveals a significant likelihood of having CHD. Individuals with diabetes exhibit a higher rate of CHD, with 36.7% of diabetic patients experiencing CHD, compared to only 14.62% of non-diabetic individuals. This significant difference is supported by a T-test, yielding a statistic of 4.73 and a p-value of approximately 0.0000068. Being that our p-value is so low this indicates the difference between the populations is not due to random chance. The T-statistic emphasizes the strength in our argument that there is a correlation of diabetes and CHD. Diabetes is a significant risk factor for the development of CHD. These findings let us argue that diabetic individuals need to be more thorough with their health to prevent heart disease.\n"
   ]
  },
  {
   "cell_type": "code",
   "execution_count": null,
   "metadata": {},
   "outputs": [],
   "source": [
    "diabetes_count = (heart_analysis_df['diabetes'] == 1).sum()\n",
    "non_diabetes_count = (heart_analysis_df['diabetes'] == 0).sum()\n",
    "print(f'Diabetics: {diabetes_count}')\n",
    "print(f'Non-diabetic: {non_diabetes_count}')\n",
    "print(f'Total population: {diabetes_count+non_diabetes_count}')\n",
    "labels = ['Diabetics', 'Non-diabetic']\n",
    "sizes = [diabetes_count, non_diabetes_count]\n",
    "diabetes_population_df = pd.DataFrame({'diabetes': labels, 'Count': sizes})\n",
    "diabetes_population_df.plot.pie(y='Count', labels=diabetes_population_df['diabetes'], autopct='%1.1f%%', legend=False, startangle=90)\n",
    "plt.title('Distribution of Diabetics and Non-diabetic')\n",
    "plt.show()"
   ]
  },
  {
   "cell_type": "code",
   "execution_count": null,
   "metadata": {},
   "outputs": [],
   "source": [
    "diabetics = heart_analysis_df[heart_analysis_df['diabetes'] == 1] \n",
    "non_diabetics = heart_analysis_df[heart_analysis_df['diabetes'] == 0]\n",
    "\n",
    "diabetics_mean = round(diabetics['TenYearCHD'].mean() * 100, 2)\n",
    "non_diabetics_mean_mean = round(non_diabetics['TenYearCHD'].mean() * 100, 2)\n",
    "print(f'Mean for Diabetics who have TenYearCHD: {diabetics_mean}%')\n",
    "print(f'Mean for Non-diabetics who have TenYearCHD: {non_diabetics_mean_mean}%')\n",
    "print(stats.ttest_ind(diabetics['TenYearCHD'], non_diabetics['TenYearCHD'], equal_var=False))"
   ]
  },
  {
   "cell_type": "markdown",
   "metadata": {},
   "source": [
    "## Limitations (Move to Limitations section)\n",
    "\n",
    "So it's common knowledge that people with diabetes are twice as likely to have heart disease. (Check out [Diabetes and Your Heart](https://www.cdc.gov/diabetes/library/features/diabetes-and-heart.html#:~:text=If%20you%20have%20diabetes%2C%20you,are%20to%20have%20heart%20disease.) for more info.) Since our population for dianietes is so low we would have liked a higher population of diabetics in this dat set to have more confidence in our analysis."
   ]
  },
  {
   "cell_type": "code",
   "execution_count": null,
   "metadata": {},
   "outputs": [],
   "source": [
    "\n",
    "education_counts_df = heart_analysis_df\n",
    "\n",
    "education_counts_df['education'] = education_counts_df['education'].astype(str)\n",
    "\n",
    "education_counts_df['education'] = education_counts_df['education'].replace('nan', 'Not Specified')\n",
    "\n",
    "education_counts_df = education_counts_df['education'].value_counts().sort_index()\n",
    "\n",
    "education_counts_df.plot(kind='bar')\n",
    "plt.title('Education Level Distribution')\n",
    "plt.xlabel('Education Level')\n",
    "plt.ylabel('Number of Individuals')\n",
    "plt.xticks(rotation=0) \n",
    "plt.show()"
   ]
  },
  {
   "cell_type": "code",
   "execution_count": null,
   "metadata": {},
   "outputs": [],
   "source": [
    "# Create a histogram for the age distribution\n",
    "age_histogram = heart_analysis_df\n",
    "plt.hist(age_histogram['age'], bins=10, edgecolor='black') \n",
    "plt.title('Age Histogram')\n",
    "plt.xlabel('Age')\n",
    "plt.ylabel('Number of people')\n",
    "plt.grid(axis='y', alpha=0.75) \n",
    "\n",
    "plt.show()"
   ]
  },
  {
   "cell_type": "code",
   "execution_count": null,
   "metadata": {},
   "outputs": [],
   "source": [
    "male_df = heart_analysis_df[heart_analysis_df['male'] == 1]\n",
    "female_df = heart_analysis_df[heart_analysis_df['male'] == 0]\n",
    "number_of_male_TYCHD = male_df[male_df['TenYearCHD'] == 1]['TenYearCHD'].sum()\n",
    "number_of_female_TYCHD = female_df[female_df['TenYearCHD'] == 1]['TenYearCHD'].sum()\n",
    "\n",
    "male_percentage = round((number_of_male_TYCHD/male_df[\"TenYearCHD\"].count()) * 100, 2)\n",
    "female_percentage = round((number_of_female_TYCHD/female_df[\"TenYearCHD\"].count()) * 100, 2)\n",
    "\n",
    "print(f'Male % of heart disease: {male_percentage}%')\n",
    "print(f'Female % of heart disease: {female_percentage}%')"
   ]
  },
  {
   "cell_type": "markdown",
   "metadata": {},
   "source": [
    "## Atuls's Section"
   ]
  },
  {
   "cell_type": "code",
   "execution_count": null,
   "metadata": {},
   "outputs": [],
   "source": [
    "print('This is your teammates Atul\\'s Section')"
   ]
  },
  {
   "cell_type": "code",
   "execution_count": null,
   "metadata": {},
   "outputs": [],
   "source": []
  },
  {
   "cell_type": "code",
   "execution_count": null,
   "metadata": {},
   "outputs": [],
   "source": []
  },
  {
   "cell_type": "code",
   "execution_count": null,
   "metadata": {},
   "outputs": [],
   "source": []
  },
  {
   "cell_type": "code",
   "execution_count": null,
   "metadata": {},
   "outputs": [],
   "source": []
  },
  {
   "cell_type": "code",
   "execution_count": null,
   "metadata": {},
   "outputs": [],
   "source": []
  },
  {
   "cell_type": "code",
   "execution_count": null,
   "metadata": {},
   "outputs": [],
   "source": []
  },
  {
   "cell_type": "code",
   "execution_count": null,
   "metadata": {},
   "outputs": [],
   "source": []
  },
  {
   "cell_type": "code",
   "execution_count": null,
   "metadata": {},
   "outputs": [],
   "source": []
  },
  {
   "cell_type": "code",
   "execution_count": null,
   "metadata": {},
   "outputs": [],
   "source": []
  },
  {
   "cell_type": "code",
   "execution_count": null,
   "metadata": {},
   "outputs": [],
   "source": []
  },
  {
   "cell_type": "markdown",
   "metadata": {},
   "source": [
    "## Ezrelle's Section"
   ]
  },
  {
   "cell_type": "markdown",
   "metadata": {},
   "source": [
    "## Cigerette's and Heart Disease"
   ]
  },
  {
   "cell_type": "code",
   "execution_count": null,
   "metadata": {},
   "outputs": [],
   "source": [
    "smoker_count = (heart_analysis_df['currentSmoker'] == 1).sum()\n",
    "non_smoker_count = (heart_analysis_df['currentSmoker'] == 0).sum()\n",
    "print(f'Smoker: {smoker_count}')\n",
    "print(f'Non-smoker: {non_smoker_count}')\n",
    "print(f'Total population: {smoker_count+non_smoker_count}')\n",
    "labels = ['Smoker', 'Non-smoker']\n",
    "sizes = [smoker_count, non_smoker_count]\n",
    "smoker_population_df = pd.DataFrame({'currentSmoker': labels, 'Count': sizes})\n",
    "smoker_population_df.plot.pie(y='Count', labels=smoker_population_df['currentSmoker'], autopct='%1.1f%%', legend=False)\n",
    "plt.title('Distribution of Smoker and Non-Smoker')\n",
    "plt.show()"
   ]
  },
  {
   "cell_type": "code",
   "execution_count": null,
   "metadata": {},
   "outputs": [],
   "source": [
    "smoker_count = (male_df['currentSmoker'] == 1).sum()\n",
    "non_smoker_count = (male_df['currentSmoker'] == 0).sum()\n",
    "print(f'Male Smoker: {smoker_count}')\n",
    "print(f'Male Non-smoker: {non_smoker_count}')\n",
    "print(f'Total Male population: {smoker_count+non_smoker_count}')\n",
    "labels = ['Smoker', 'Non-smoker']\n",
    "sizes = [smoker_count, non_smoker_count]\n",
    "smoker_population_df = pd.DataFrame({'currentSmoker': labels, 'Count': sizes})\n",
    "smoker_population_df.plot.pie(y='Count', labels=smoker_population_df['currentSmoker'], autopct='%1.1f%%', legend=False)\n",
    "plt.title('Male Distribution of Smoker and Non-Smoker')\n",
    "plt.show()"
   ]
  },
  {
   "cell_type": "code",
   "execution_count": null,
   "metadata": {},
   "outputs": [],
   "source": [
    "smoker_count = (female_df['currentSmoker'] == 1).sum()\n",
    "non_smoker_count = (female_df['currentSmoker'] == 0).sum()\n",
    "print(f'Female Smoker: {smoker_count}')\n",
    "print(f'Female Non-smoker: {non_smoker_count}')\n",
    "print(f'Total Female population: {smoker_count+non_smoker_count}')\n",
    "labels = ['Smoker', 'Non-smoker']\n",
    "sizes = [smoker_count, non_smoker_count]\n",
    "smoker_population_df = pd.DataFrame({'currentSmoker': labels, 'Count': sizes})\n",
    "smoker_population_df.plot.pie(y='Count', labels=smoker_population_df['currentSmoker'], autopct='%1.1f%%', legend=False)\n",
    "plt.title('Female Distribution of Smoker and Non-Smoker')\n",
    "plt.show()"
   ]
  },
  {
   "cell_type": "code",
   "execution_count": null,
   "metadata": {},
   "outputs": [],
   "source": []
  },
  {
   "cell_type": "code",
   "execution_count": null,
   "metadata": {},
   "outputs": [],
   "source": []
  },
  {
   "cell_type": "code",
   "execution_count": null,
   "metadata": {},
   "outputs": [],
   "source": []
  },
  {
   "cell_type": "code",
   "execution_count": null,
   "metadata": {},
   "outputs": [],
   "source": []
  },
  {
   "cell_type": "code",
   "execution_count": null,
   "metadata": {},
   "outputs": [],
   "source": []
  },
  {
   "cell_type": "code",
   "execution_count": null,
   "metadata": {},
   "outputs": [],
   "source": []
  },
  {
   "cell_type": "code",
   "execution_count": null,
   "metadata": {},
   "outputs": [],
   "source": []
  },
  {
   "cell_type": "code",
   "execution_count": null,
   "metadata": {},
   "outputs": [],
   "source": []
  },
  {
   "cell_type": "code",
   "execution_count": null,
   "metadata": {},
   "outputs": [],
   "source": []
  },
  {
   "cell_type": "code",
   "execution_count": null,
   "metadata": {},
   "outputs": [],
   "source": []
  },
  {
   "cell_type": "markdown",
   "metadata": {},
   "source": [
    "## Indu's Section"
   ]
  },
  {
   "cell_type": "code",
   "execution_count": null,
   "metadata": {},
   "outputs": [],
   "source": [
    "print('This is your teammates Indu\\'s Section')"
   ]
  },
  {
   "cell_type": "code",
   "execution_count": null,
   "metadata": {},
   "outputs": [],
   "source": []
  },
  {
   "cell_type": "code",
   "execution_count": null,
   "metadata": {},
   "outputs": [],
   "source": []
  },
  {
   "cell_type": "code",
   "execution_count": null,
   "metadata": {},
   "outputs": [],
   "source": []
  },
  {
   "cell_type": "code",
   "execution_count": null,
   "metadata": {},
   "outputs": [],
   "source": []
  },
  {
   "cell_type": "code",
   "execution_count": null,
   "metadata": {},
   "outputs": [],
   "source": []
  },
  {
   "cell_type": "code",
   "execution_count": null,
   "metadata": {},
   "outputs": [],
   "source": []
  },
  {
   "cell_type": "code",
   "execution_count": null,
   "metadata": {},
   "outputs": [],
   "source": []
  },
  {
   "cell_type": "code",
   "execution_count": null,
   "metadata": {},
   "outputs": [],
   "source": []
  },
  {
   "cell_type": "code",
   "execution_count": null,
   "metadata": {},
   "outputs": [],
   "source": []
  },
  {
   "cell_type": "code",
   "execution_count": null,
   "metadata": {},
   "outputs": [],
   "source": []
  },
  {
   "cell_type": "markdown",
   "metadata": {},
   "source": [
    "## Tianyue's Section"
   ]
  },
  {
   "cell_type": "code",
   "execution_count": null,
   "metadata": {},
   "outputs": [],
   "source": [
    "print('This is your teammates Tianyue\\'s Section')"
   ]
  },
  {
   "cell_type": "code",
   "execution_count": null,
   "metadata": {},
   "outputs": [],
   "source": []
  },
  {
   "cell_type": "code",
   "execution_count": null,
   "metadata": {},
   "outputs": [],
   "source": []
  },
  {
   "cell_type": "code",
   "execution_count": null,
   "metadata": {},
   "outputs": [],
   "source": []
  },
  {
   "cell_type": "code",
   "execution_count": null,
   "metadata": {},
   "outputs": [],
   "source": []
  },
  {
   "cell_type": "code",
   "execution_count": null,
   "metadata": {},
   "outputs": [],
   "source": []
  },
  {
   "cell_type": "code",
   "execution_count": null,
   "metadata": {},
   "outputs": [],
   "source": []
  },
  {
   "cell_type": "code",
   "execution_count": null,
   "metadata": {},
   "outputs": [],
   "source": []
  },
  {
   "cell_type": "code",
   "execution_count": null,
   "metadata": {},
   "outputs": [],
   "source": []
  },
  {
   "cell_type": "code",
   "execution_count": null,
   "metadata": {},
   "outputs": [],
   "source": []
  },
  {
   "cell_type": "code",
   "execution_count": null,
   "metadata": {},
   "outputs": [],
   "source": []
  }
 ],
 "metadata": {
  "kernelspec": {
   "display_name": "dev",
   "language": "python",
   "name": "python3"
  },
  "language_info": {
   "codemirror_mode": {
    "name": "ipython",
    "version": 3
   },
   "file_extension": ".py",
   "mimetype": "text/x-python",
   "name": "python",
   "nbconvert_exporter": "python",
   "pygments_lexer": "ipython3",
   "version": "3.10.13"
  }
 },
 "nbformat": 4,
 "nbformat_minor": 2
}

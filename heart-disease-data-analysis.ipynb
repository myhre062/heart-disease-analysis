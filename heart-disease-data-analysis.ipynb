{
 "cells": [
  {
   "cell_type": "code",
   "execution_count": null,
   "metadata": {},
   "outputs": [],
   "source": [
    "from pathlib import Path\n",
    "import pandas as pd\n",
    "import matplotlib.pyplot as plt\n",
    "import scipy.stats as stats\n",
    "import numpy as np\n",
    "\n",
    "\n",
    "csv_file = Path('Resources/framingham.csv')\n",
    "\n",
    "heart_analysis_df = pd.read_csv(csv_file)\n",
    "\n",
    "heart_analysis_df"
   ]
  },
  {
   "cell_type": "code",
   "execution_count": null,
   "metadata": {},
   "outputs": [],
   "source": [
    "def pie_chart(df, title, column_name, labels, angle=0):\n",
    "    pop_count1 = (df[column_name] == 1).sum()\n",
    "    pop_count2 = (df[column_name] == 0).sum()\n",
    "    total_count = pop_count1 + pop_count2\n",
    "    print(f'{labels[0]}: {pop_count1}')\n",
    "    print(f'{labels[1]}: {pop_count2}')\n",
    "    print(f'Total population: {total_count}')\n",
    "    \n",
    "    # Prepare data for pie chart\n",
    "    sizes = [pop_count1, pop_count2]\n",
    "    \n",
    "    # Create DataFrame for plotting\n",
    "    population_df = pd.DataFrame({'Status': labels, 'Count': sizes})\n",
    "    \n",
    "    # Plot pie chart\n",
    "    population_df.plot.pie(y='Count', labels=population_df['Status'], autopct='%1.1f%%', legend=False, startangle=angle)\n",
    "    plt.title(title)\n",
    "    plt.ylabel('')\n",
    "    plt.show()"
   ]
  },
  {
   "cell_type": "markdown",
   "metadata": {},
   "source": [
    "## Male vs Female Population\n",
    "\n",
    "### Analysis:"
   ]
  },
  {
   "cell_type": "code",
   "execution_count": null,
   "metadata": {},
   "outputs": [],
   "source": [
    "pie_chart(heart_analysis_df, 'Distribution of Male and Female', 'male', ['Male', 'Female'])"
   ]
  },
  {
   "cell_type": "markdown",
   "metadata": {},
   "source": [
    "## Diabetes and Heart Disease\n",
    "\n",
    "### Analysis:\n",
    "\n",
    "The correlation between diabetes and the risk of developing coronary heart disease (CHD) over ten years reveals a significant likelihood of having CHD. Individuals with diabetes exhibit a higher rate of CHD, with 36.7% of diabetic patients experiencing CHD, compared to only 14.62% of non-diabetic individuals. This significant difference is supported by a T-test, yielding a statistic of 4.73 and a p-value of approximately 0.0000068. Being that our p-value is so low this indicates the difference between the populations is not due to random chance. The T-statistic emphasizes the strength in our argument that there is a correlation of diabetes and CHD. Diabetes is a significant risk factor for the development of CHD. These findings let us argue that diabetic individuals need to be more thorough with their health to prevent heart disease.\n"
   ]
  },
  {
   "cell_type": "code",
   "execution_count": null,
   "metadata": {},
   "outputs": [],
   "source": [
    "pie_chart(heart_analysis_df, 'Distribution of Diabetics and Non-diabetic','diabetes', ['Diabetics', 'Non-diabetic'], 90)"
   ]
  },
  {
   "cell_type": "code",
   "execution_count": null,
   "metadata": {},
   "outputs": [],
   "source": [
    "diabetics = heart_analysis_df[heart_analysis_df['diabetes'] == 1] \n",
    "non_diabetics = heart_analysis_df[heart_analysis_df['diabetes'] == 0]\n",
    "\n",
    "diabetics_mean = round(diabetics['TenYearCHD'].mean() * 100, 2)\n",
    "non_diabetics_mean_mean = round(non_diabetics['TenYearCHD'].mean() * 100, 2)\n",
    "print(f'Mean for Diabetics who have TenYearCHD: {diabetics_mean}%')\n",
    "print(f'Mean for Non-diabetics who have TenYearCHD: {non_diabetics_mean_mean}%')\n",
    "print(stats.ttest_ind(diabetics['TenYearCHD'], non_diabetics['TenYearCHD'], equal_var=False))"
   ]
  },
  {
   "cell_type": "markdown",
   "metadata": {},
   "source": [
    "## Limitations (Move to Limitations section)\n",
    "\n",
    "So it's common knowledge that people with diabetes are twice as likely to have heart disease. (Check out [Diabetes and Your Heart](https://www.cdc.gov/diabetes/library/features/diabetes-and-heart.html#:~:text=If%20you%20have%20diabetes%2C%20you,are%20to%20have%20heart%20disease.) for more info.) Since our population for dianietes is so low we would have liked a higher population of diabetics in this dat set to have more confidence in our analysis."
   ]
  },
  {
   "cell_type": "code",
   "execution_count": null,
   "metadata": {},
   "outputs": [],
   "source": [
    "\n",
    "education_counts_df = heart_analysis_df\n",
    "\n",
    "education_counts_df['education'] = education_counts_df['education'].astype(str)\n",
    "\n",
    "education_counts_df['education'] = education_counts_df['education'].replace('nan', 'Not Specified')\n",
    "\n",
    "education_counts_df = education_counts_df['education'].value_counts().sort_index()\n",
    "\n",
    "education_counts_df.plot(kind='bar')\n",
    "plt.title('Education Level Distribution')\n",
    "plt.xlabel('Education Level')\n",
    "plt.ylabel('Number of Individuals')\n",
    "plt.xticks(rotation=0) \n",
    "plt.show()"
   ]
  },
  {
   "cell_type": "code",
   "execution_count": null,
   "metadata": {},
   "outputs": [],
   "source": [
    "# Create a histogram for the age distribution\n",
    "age_histogram = heart_analysis_df\n",
    "plt.hist(age_histogram['age'], bins=10, edgecolor='black') \n",
    "plt.title('Age Histogram')\n",
    "plt.xlabel('Age')\n",
    "plt.ylabel('Number of people')\n",
    "plt.grid(axis='y', alpha=0.75) \n",
    "\n",
    "plt.show()"
   ]
  },
  {
   "cell_type": "code",
   "execution_count": null,
   "metadata": {},
   "outputs": [],
   "source": [
    "male_df = heart_analysis_df[heart_analysis_df['male'] == 1]\n",
    "female_df = heart_analysis_df[heart_analysis_df['male'] == 0]\n",
    "number_of_male_TYCHD = male_df[male_df['TenYearCHD'] == 1]['TenYearCHD'].sum()\n",
    "number_of_female_TYCHD = female_df[female_df['TenYearCHD'] == 1]['TenYearCHD'].sum()\n",
    "\n",
    "male_percentage = round((number_of_male_TYCHD/male_df[\"TenYearCHD\"].count()) * 100, 2)\n",
    "female_percentage = round((number_of_female_TYCHD/female_df[\"TenYearCHD\"].count()) * 100, 2)\n",
    "\n",
    "print(f'Male % of heart disease: {male_percentage}%')\n",
    "print(f'Female % of heart disease: {female_percentage}%')"
   ]
  },
  {
   "cell_type": "markdown",
   "metadata": {},
   "source": [
    "## Atuls's Section"
   ]
  },
  {
   "cell_type": "code",
   "execution_count": null,
   "metadata": {},
   "outputs": [],
   "source": [
    "print('This is your teammates Atul\\'s Section')"
   ]
  },
  {
   "cell_type": "code",
   "execution_count": null,
   "metadata": {},
   "outputs": [],
   "source": []
  },
  {
   "cell_type": "code",
   "execution_count": null,
   "metadata": {},
   "outputs": [],
   "source": []
  },
  {
   "cell_type": "code",
   "execution_count": null,
   "metadata": {},
   "outputs": [],
   "source": []
  },
  {
   "cell_type": "code",
   "execution_count": null,
   "metadata": {},
   "outputs": [],
   "source": []
  },
  {
   "cell_type": "code",
   "execution_count": null,
   "metadata": {},
   "outputs": [],
   "source": []
  },
  {
   "cell_type": "code",
   "execution_count": null,
   "metadata": {},
   "outputs": [],
   "source": []
  },
  {
   "cell_type": "code",
   "execution_count": null,
   "metadata": {},
   "outputs": [],
   "source": []
  },
  {
   "cell_type": "code",
   "execution_count": null,
   "metadata": {},
   "outputs": [],
   "source": []
  },
  {
   "cell_type": "code",
   "execution_count": null,
   "metadata": {},
   "outputs": [],
   "source": []
  },
  {
   "cell_type": "code",
   "execution_count": null,
   "metadata": {},
   "outputs": [],
   "source": []
  },
  {
   "cell_type": "markdown",
   "metadata": {},
   "source": [
    "## Ezrelle's Section"
   ]
  },
  {
   "cell_type": "markdown",
   "metadata": {},
   "source": [
    "## Cigaretteette's and Heart Disease\n",
    "\n",
    "## Analysis:\n",
    "\n",
    "## Smoker Population:\n",
    "\n",
    "The distribution between smokers and non-smokers is nearly balanced, with non-smokers slightly outnumbering smokers. This suggests that the dataset includes a diverse set of individuals regarding their smoking habits.\n",
    "\n",
    "When comparing smoking populations between males and females we can see that males are significantly more likely to smoke. We know this because our p-value is exrememly small (2.2043519152601072e-38) and the t-statistic direction (13.09 positive), this suggests males have the higher rates of smoking. There isn't enough data to make concise assumptions on why males smoke more than females. Other factor such as lifestyle choices, cultural influences, or socioeconomic conditions contribute to the reason why. We can only speculate on the potential reasons for this observed difference.\n",
    "\n",
    "Heavy Smokers: Our data set shows that our smoking population tend to be heavy smokers. Specifically, the group smoking \"21-30 cigs per day\" represents the largest percentage (38.53%) of the smoker population. Additionally, the \"30+ cigs per day\" group also constitutes a substantial proportion (19.26%). This indicates that a majority of the smoking population tends towards higher daily cigarette consumption.\n",
    "\n",
    "Moderate and Light Smokers: The categories \"11-20 cigs per day\" and \"6-10 cigs per day\" together make up about 32.81% of the smoker population. This suggests that while there is a considerable portion of the population that smokes moderately, the trend leans more towards heavier smoking habits.\n",
    "\n",
    "Health Implications: The high percentages of smokers in the heavier smoking categories (\"21-30\" and \"30+\") are concerning from a public health perspective. Higher daily cigarette consumption is strongly associated with greater health risks, including increased risk of cardiovascular diseases. The distribution suggests that a significant portion of the smoker population is at a higher risk for these health issues.\n",
    "\n",
    "This would all make sense being that the average age for our population's of smoker's is 47.73 years. Meaning when it comes to our smoker population we are dealing with an older generation. It is common knowledge that other generations were told smoking din't cause health problems. \n",
    "\n",
    "So given that our smoker population is a majority of heavy smokers it would be fair to make a hypothises that the more you smoke the worse your health conditions get. "
   ]
  },
  {
   "cell_type": "code",
   "execution_count": null,
   "metadata": {},
   "outputs": [],
   "source": [
    "pie_chart(heart_analysis_df, 'Distribution of Smoker and Non-smoker', 'currentSmoker', ['Smoker', 'Non-smoker'])\n",
    "pie_chart(male_df, 'Male Distribution of Smoker and Non-smoker', 'currentSmoker', ['Smoker', 'Non-smoker'])\n",
    "pie_chart(female_df, 'Female Distribution of Smoker and Non-smoker', 'currentSmoker', ['Smoker', 'Non-smoker'])\n",
    "stats.ttest_ind(male_df.currentSmoker, female_df.currentSmoker, equal_var=False)"
   ]
  },
  {
   "cell_type": "code",
   "execution_count": null,
   "metadata": {},
   "outputs": [],
   "source": [
    "smoker_df = heart_analysis_df[heart_analysis_df['currentSmoker'] == 1]\n",
    "avg_age_of_smoker = round(smoker_df.age.mean(), 2)\n",
    "avg_num_of_cigs = round(smoker_df.cigsPerDay.mean(), 2)\n",
    "\n",
    "print(f'Average age of Smoker: {avg_age_of_smoker} years')\n",
    "print(f'Average number of cigs per day for a smoker is: {avg_num_of_cigs} a day')"
   ]
  },
  {
   "cell_type": "code",
   "execution_count": null,
   "metadata": {},
   "outputs": [],
   "source": [
    "cigs_per_day_counts = smoker_df['cigsPerDay'].value_counts().sort_index()\n",
    "\n",
    "bins = [0, 5, 10, 20, 30, 100]\n",
    "labels = ['0-5', '6-10', '11-20', '21-30', '30+']\n",
    "\n",
    "smoker_df.loc[:, 'cigsPerDay_bins'] = pd.cut(smoker_df['cigsPerDay'], bins=bins, labels=labels, right=False)\n",
    "\n",
    "cigs_per_day_grouped = smoker_df['cigsPerDay_bins'].value_counts().sort_index()\n",
    "\n",
    "plt.figure(figsize=(10, 6))\n",
    "plt.title('Number of Smokers by Cigarettes per Day')\n",
    "plt.xlabel('Cigarettes per Day')\n",
    "plt.ylabel('Number of Smokers')\n",
    "\n",
    "total_count = cigs_per_day_grouped.sum()\n",
    "percentages = (cigs_per_day_grouped / total_count) * 100\n",
    "bars = plt.bar(cigs_per_day_grouped.index, cigs_per_day_grouped.values, color='red')\n",
    "i = 0\n",
    "for bar, percentage in zip(bars, percentages):\n",
    "    print(f'{labels[i]} cigs per day: {percentage:.2f}%')\n",
    "    i += 1\n",
    "    height = bar.get_height()\n",
    "    plt.text(bar.get_x() + bar.get_width() / 2.0, height, f'{percentage:.2f}%', ha='center', va='bottom')\n",
    "\n",
    "\n",
    "plt.show()"
   ]
  },
  {
   "cell_type": "markdown",
   "metadata": {},
   "source": [
    "## Analysis:\n",
    "\n",
    "- Note: Systolic Blood Pressure is pressure exerted blood is ejected into the arteries.  Diastolic Blood Pressure is pressure blood exerts within arteries between heartbeats.\n",
    "\n",
    "- Normal Systolic Blood Pressure is 120mmHg\n",
    "- Normal Dystolic Blood Pressure is 80mmHg\n",
    "\n",
    "### Blood Pressure:\n",
    "\n",
    "Looking at the blood pressure we can see that the non-smokers tend to have a higher blood pressure on average then the smokers. While the dataset suggests that non-smokers have higher average blood pressure than smokers, this counterintuitive result calls for the fact that other lifestyle and health factors are affecting blood pressure. It also highlights the complexity of cardiovascular risk assessment.\n",
    "\n",
    "### Cigarette per day vs Blood presure:\n",
    "\n",
    "Given that the r-value is low for all population of groups of smokers (all smokers, smokers at risk of CHD, smokers not at risk of CHD), and that the linear regression correlation lines are mostly flat, we can comfortably say that the number of Cigarette someone smokes does not directly correlate with your blood pressure whether is be your Systolic or Dystolic Blood Pressure. Given this we should try to find a correlation between age and blood pressure for both population of smokers and non-smokers.\n",
    "\n",
    "### Age vs Blood Pressure:\n",
    "\n",
    "The provided scatter plot data includes correlation coefficients and linear regression equations for the relationship between age and blood pressure among smokers, further divided into two subgroups based on their risk of Ten-Year Coronary Heart Disease (CHD). Looking at the data we can see moderate positive correlation between age and systolic blood pressure among smokers, with small differences in the rate of blood pressure increase and baseline levels depending on CHD risk status. This would make sense because as you age the harder your heart has to work to push blood throughout your body. From our groups of smokers you can see a trend that their hearts may be working a little harder then those who do not smoke. Being that their slopes and r-values are greater than the non-smokers slopes and r-values. \n",
    "\n",
    "### Age vs Total Cholesterol: \n",
    "\n",
    "Another hypothesis we wanted to test was if smoking over long periods of time does increase total cholesterol. Note there is 2 kinds of cholesterol, [(bad cholesterol) LDL cholesterol and (good cholesterol) HDL cholesterol](https://www.ncbi.nlm.nih.gov/pmc/articles/PMC3576744/#:~:text=The%20nicotine%20in%20tobacco%20causes,lipids%20in%20the%20arterial%20wall.). This data accounts for the combination of these cholesterol, total cholesterol. We can see from the scatter plots that total cholesterol does increase as you age. When it comes to smoker's though their cholesterol levels tend to increase at a slower rate as they age. This correlation is not as strong as non-smokers. Meaning that smoking could be decreasing their good cholesterol levels and their bad cholesterol levels increasing as they age. Neatly enough though the population of smokers who are at risk of CHD, their r-value is negative and their slope is slightly negative. This means that ageing does not affect your total cholesterol levels. This may imply other factors such as smoking or other lifestyle choices are having a very slight negative effect on their cholesterol levels. When is comes to non-smokers you can see that their cholestorol also go up with age and at a faster rate as well. This though may be because their good cholestorl levels are taking up a majority of their total cholesterol levels. This is not the case for the non-smokers who are at risk of CHD. Being that there slope is zero and their r-value is very though this implies that for them age is not a factor for their risk of CHD, other facters are probably play a more sigificant role in their risk for CHD. "
   ]
  },
  {
   "cell_type": "code",
   "execution_count": null,
   "metadata": {},
   "outputs": [],
   "source": [
    "# population of non smokers in our data set.\n",
    "non_smokers_df = heart_analysis_df[heart_analysis_df['currentSmoker'] == 0]\n",
    "\n",
    "# population of non smokers who are and are not at risk of Ten Year Coronary Heart Disease\n",
    "non_smokers_at_risk_df = non_smokers_df[non_smokers_df['TenYearCHD'] == 1]\n",
    "non_smokers_no_risk_df = non_smokers_df[non_smokers_df['TenYearCHD'] == 0]\n",
    "\n",
    "# population of smokers who are and are not at risk of Ten Year Coronary Heart Disease\n",
    "smoker_at_risk_df = smoker_df[smoker_df['TenYearCHD'] == 1]\n",
    "smoker_no_risk_df = smoker_df[smoker_df['TenYearCHD'] == 0]\n",
    "\n",
    "# General averages\n",
    "\n",
    "smoker_sys_bp_avg = smoker_df.sysBP.mean()\n",
    "smoker_dia_bp_avg = smoker_df.diaBP.mean()\n",
    "non_smokers_sys_bp_avg = non_smokers_df.sysBP.mean()\n",
    "non_smokers_dia_bp_avg = non_smokers_df.diaBP.mean()\n",
    "\n",
    "print(f'The smoker populations Systolic BP avg is: {smoker_sys_bp_avg:.2f} (Normal is 120mmHg)')\n",
    "print(f'The smoker populations Dystolic BP avg is: {smoker_dia_bp_avg:.2f} (Normal is 80mmHg)')\n",
    "print(f'The non-smoker populations Systolic BP avg is: {non_smokers_sys_bp_avg:.2f} (Normal is 120mmHg)')\n",
    "print(f'The non-smoker populations Dystolic BP avg is: {non_smokers_dia_bp_avg:.2f} (Normal is 80mmHg)')\n",
    "print()\n",
    "print(\"T Test results for Systolic BP for smokers and non-smokers:\")\n",
    "print(stats.ttest_ind(smoker_df.sysBP, non_smokers_df.sysBP, equal_var=False))\n",
    "print()\n",
    "print(\"T Test results for Dystolic BP for smokers and non-smokers:\")\n",
    "print(stats.ttest_ind(smoker_df.diaBP, non_smokers_df.diaBP, equal_var=False))"
   ]
  },
  {
   "cell_type": "code",
   "execution_count": null,
   "metadata": {},
   "outputs": [],
   "source": [
    "def plot_linear_regression(df, x_col, y_col, title, x_label, y_label, x_pos, y_pos, ticks=False):\n",
    "    # Drop rows with NaN values in the specified columns\n",
    "    df_clean = df.dropna(subset=[x_col, y_col])\n",
    "    \n",
    "    # Extract x and y values\n",
    "    x = df_clean[x_col]\n",
    "    y = df_clean[y_col]\n",
    "    \n",
    "    # Perform linear regression\n",
    "    slope, intercept, r_value, p_value, std_err = stats.linregress(x, y)\n",
    "    \n",
    "    # Calculate the regression values for plotting\n",
    "    reg_values = x * slope + intercept\n",
    "    \n",
    "    # Create the scatter plot\n",
    "    plt.figure(figsize=(8, 6))\n",
    "    plt.scatter(x, y, alpha=0.5)\n",
    "    plt.plot(x, reg_values, color='red')  # Plot the regression line\n",
    "    \n",
    "    # Annotate the plot with the linear equation\n",
    "    plt.annotate(f'y = {slope:.2f}x + {intercept:.2f}', xy=(x_pos, y_pos), xycoords='axes fraction', fontsize=12, color='red')\n",
    "    \n",
    "    # Print the r-value\n",
    "    print(f'The r-value is: {r_value}')\n",
    "    \n",
    "    # Set the title and labels\n",
    "    plt.title(title)\n",
    "    plt.xlabel(x_label)\n",
    "    plt.ylabel(y_label)\n",
    "    if (ticks):\n",
    "        plt.yticks([0, 1], ['No Risk', 'At Risk'])\n",
    "    \n",
    "    # Show the plot\n",
    "    plt.show()"
   ]
  },
  {
   "cell_type": "code",
   "execution_count": null,
   "metadata": {},
   "outputs": [],
   "source": [
    "# Scatter plot for cigsPerDay vs. sysBP\n",
    "plot_linear_regression(\n",
    "    smoker_df, \n",
    "    'cigsPerDay', \n",
    "    'sysBP', \n",
    "    'Cigarettes per Day vs. Systolic Blood Pressure', \n",
    "    'Cigarettes per Day',\n",
    "    'Systolic Blood Pressure (sysBP)', \n",
    "    0.5, \n",
    "    0.95\n",
    ")\n",
    "\n",
    "plot_linear_regression(\n",
    "    smoker_at_risk_df, \n",
    "    'cigsPerDay', \n",
    "    'sysBP', \n",
    "    'Cigarettes per Day vs. Systolic Blood Pressure in smokers at risk', \n",
    "    'Cigarettes per Day',\n",
    "    'Systolic Blood Pressure (sysBP)', \n",
    "    0.5, \n",
    "    0.95\n",
    ")\n",
    "\n",
    "plot_linear_regression(\n",
    "    smoker_no_risk_df, \n",
    "    'cigsPerDay', \n",
    "    'sysBP', \n",
    "    'Cigarettes per Day vs. Systolic Blood Pressure in smokers not at risk', \n",
    "    'Cigarettes per Day',\n",
    "    'Systolic Blood Pressure (sysBP)', \n",
    "    0.5, \n",
    "    0.95\n",
    ")"
   ]
  },
  {
   "cell_type": "code",
   "execution_count": null,
   "metadata": {},
   "outputs": [],
   "source": [
    "# Scatter plot for cigsPerDay vs. diaBP\n",
    "plot_linear_regression(\n",
    "    smoker_df, \n",
    "    'cigsPerDay', \n",
    "    'diaBP', \n",
    "    'Cigarettes per Day vs. Diastolic Blood Pressure', \n",
    "    'Cigarettes per Day',\n",
    "    'Diastolic Blood Pressure (diaBP)', \n",
    "    0.5, \n",
    "    0.95\n",
    ")\n",
    "\n",
    "plot_linear_regression(\n",
    "    smoker_at_risk_df, \n",
    "    'cigsPerDay', \n",
    "    'diaBP', \n",
    "    'Cigarettes per Day vs. Diastolic Blood Pressure in smokers at risk', \n",
    "    'Cigarettes per Day',\n",
    "    'Diastolic Blood Pressure (diaBP)', \n",
    "    0.5, \n",
    "    0.95\n",
    ")\n",
    "\n",
    "plot_linear_regression(\n",
    "    smoker_no_risk_df, \n",
    "    'cigsPerDay', \n",
    "    'diaBP', \n",
    "    'Cigarettes per Day vs. Diastolic Blood Pressure in smokers not at risk', \n",
    "    'Cigarettes per Day',\n",
    "    'Diastolic Blood Pressure (diaBP)', \n",
    "    0.5, \n",
    "    0.95\n",
    ")"
   ]
  },
  {
   "cell_type": "code",
   "execution_count": null,
   "metadata": {},
   "outputs": [],
   "source": [
    "# Since non-smokers should have cigsPerDay as 0, let's use another variable that varies, like 'age', for a meaningful plot\n",
    "# Scatter plot for age vs. sysBP in smokers\n",
    "plot_linear_regression(\n",
    "    smoker_df, \n",
    "    'age', \n",
    "    'sysBP', \n",
    "    'Age vs. Systolic Blood Pressure in Smokers', \n",
    "    'Age',\n",
    "    'Systolic Blood Pressure (sysBP)', \n",
    "    0.05, \n",
    "    0.95\n",
    ")\n",
    "\n",
    "# This could be overkill will potentially delete\n",
    "plot_linear_regression(\n",
    "    smoker_at_risk_df, \n",
    "    'age', \n",
    "    'sysBP', \n",
    "    'Age vs. Systolic Blood Pressure in smokers at risk', \n",
    "    'Age',\n",
    "    'Systolic Blood Pressure (sysBP)', \n",
    "    0.05, \n",
    "    0.95\n",
    ")\n",
    "\n",
    "# This could be overkill will potentially delete\n",
    "plot_linear_regression(\n",
    "    smoker_no_risk_df, \n",
    "    'age', \n",
    "    'sysBP', \n",
    "    'Age vs. Systolic Blood Pressure in smokers not at risk', \n",
    "    'Age',\n",
    "    'Systolic Blood Pressure (sysBP)', \n",
    "    0.05, \n",
    "    0.95\n",
    ")"
   ]
  },
  {
   "cell_type": "code",
   "execution_count": null,
   "metadata": {},
   "outputs": [],
   "source": [
    "# Scatter plot for age vs. sysBP in non-smokers\n",
    "# Filter the DataFrame to include only non-smokers\n",
    "\n",
    "plot_linear_regression(\n",
    "    non_smokers_df, \n",
    "    'age', \n",
    "    'sysBP', \n",
    "    'Age vs. Systolic Blood Pressure in Non-Smokers', \n",
    "    'Non-Smoker Age',\n",
    "    'Systolic Blood Pressure (sysBP)', \n",
    "    0.05, \n",
    "    0.95\n",
    ")\n",
    "\n",
    "# This could be overkill will potentially delete\n",
    "plot_linear_regression(\n",
    "    non_smokers_at_risk_df, \n",
    "    'age', \n",
    "    'sysBP', \n",
    "    'Age vs. Systolic Blood Pressure in Non-Smokers at risk', \n",
    "    'Non-Smoker Age',\n",
    "    'Systolic Blood Pressure (sysBP)', \n",
    "    0.05, \n",
    "    0.95\n",
    ")\n",
    "\n",
    "# This could be overkill will potentially delete\n",
    "plot_linear_regression(\n",
    "    non_smokers_no_risk_df, \n",
    "    'age', \n",
    "    'sysBP', \n",
    "    'Age vs. Systolic Blood Pressure in Non-Smokers not at risk', \n",
    "    'Non-Smoker Age',\n",
    "    'Systolic Blood Pressure (sysBP)', \n",
    "    0.05, \n",
    "    0.95\n",
    ")"
   ]
  },
  {
   "cell_type": "code",
   "execution_count": null,
   "metadata": {},
   "outputs": [],
   "source": [
    "# Scatter plot for age vs. diaBP in smokers\n",
    "plot_linear_regression(\n",
    "    smoker_df, \n",
    "    'age', \n",
    "    'diaBP', \n",
    "    'Age vs. Diastolic Blood Pressure in Smokers', \n",
    "    'Smoker Age',\n",
    "    'Diastolic Blood Pressure (diaBP)', \n",
    "    0.05, \n",
    "    0.95\n",
    ")\n",
    "\n",
    "# This could be overkill will potentially delete\n",
    "plot_linear_regression(\n",
    "    smoker_at_risk_df, \n",
    "    'age', \n",
    "    'diaBP', \n",
    "    'Age vs. Diastolic Blood Pressure in Smokers at risk', \n",
    "    'Smoker Age',\n",
    "    'Diastolic Blood Pressure (diaBP)', \n",
    "    0.05, \n",
    "    0.95\n",
    ")\n",
    "\n",
    "# This could be overkill will potentially delete\n",
    "plot_linear_regression(\n",
    "    smoker_no_risk_df, \n",
    "    'age', \n",
    "    'diaBP', \n",
    "    'Age vs. Diastolic Blood Pressure in Smokers no risk', \n",
    "    'Smoker Age',\n",
    "    'Diastolic Blood Pressure (diaBP)', \n",
    "    0.05, \n",
    "    0.95\n",
    ")"
   ]
  },
  {
   "cell_type": "code",
   "execution_count": null,
   "metadata": {},
   "outputs": [],
   "source": [
    "# Scatter plot for age vs. diaBP in non-smokers\n",
    "plot_linear_regression(\n",
    "    non_smokers_df, \n",
    "    'age', \n",
    "    'diaBP', \n",
    "    'Age vs. Diastolic Blood Pressure in Non-Smokers', \n",
    "    'Non-Smoker Age',\n",
    "    'Diastolic Blood Pressure (diaBP)', \n",
    "    0.05, \n",
    "    0.95\n",
    ")\n",
    "\n",
    "# This could be overkill will potentially delete\n",
    "plot_linear_regression(\n",
    "    non_smokers_at_risk_df, \n",
    "    'age', \n",
    "    'diaBP', \n",
    "    'Age vs. Diastolic Blood Pressure in Non-Smokers at risk', \n",
    "    'Non-Smoker Age',\n",
    "    'Diastolic Blood Pressure (diaBP)', \n",
    "    0.05, \n",
    "    0.95\n",
    ")\n",
    "\n",
    "# This could be overkill will potentially delete\n",
    "plot_linear_regression(\n",
    "    non_smokers_no_risk_df, \n",
    "    'age', \n",
    "    'diaBP', \n",
    "    'Age vs. Diastolic Blood Pressure in Non-Smokers no risk', \n",
    "    'Non-Smoker Age',\n",
    "    'Diastolic Blood Pressure (diaBP)', \n",
    "    0.05, \n",
    "    0.95\n",
    ")"
   ]
  },
  {
   "cell_type": "code",
   "execution_count": null,
   "metadata": {},
   "outputs": [],
   "source": [
    "# Scatter plot for age vs. totChol in smokers\n",
    "plot_linear_regression(\n",
    "    smoker_df, \n",
    "    'age', \n",
    "    'totChol', \n",
    "    'Age vs. Total Cholesterol in Smokers', \n",
    "    'Age',\n",
    "    'Total Cholesterol (mg/dL)', \n",
    "    0.05, \n",
    "    0.95\n",
    ")\n",
    "\n",
    "# This could be overkill will potentially delete\n",
    "plot_linear_regression(\n",
    "    smoker_at_risk_df, \n",
    "    'age', \n",
    "    'totChol', \n",
    "    'Age vs. Total Cholesterol in Smokers at risk', \n",
    "    'Age',\n",
    "    'Total Cholesterol (mg/dL)', \n",
    "    0.05, \n",
    "    0.95\n",
    ")\n",
    "\n",
    "# This could be overkill will potentially delete\n",
    "plot_linear_regression(\n",
    "    smoker_no_risk_df, \n",
    "    'age', \n",
    "    'totChol', \n",
    "    'Age vs. Total Cholesterol in Smokers no risk', \n",
    "    'Age',\n",
    "    'Total Cholesterol (mg/dL)', \n",
    "    0.05, \n",
    "    0.95\n",
    ")"
   ]
  },
  {
   "cell_type": "code",
   "execution_count": null,
   "metadata": {},
   "outputs": [],
   "source": [
    "# Scatter plot for age vs. totChol in non-smokers\n",
    "plot_linear_regression(\n",
    "    non_smokers_df, \n",
    "    'age', \n",
    "    'totChol', \n",
    "    'Age vs. Total Cholesterol in Non-Smokers', \n",
    "    'Age',\n",
    "    'Total Cholesterol (mg/dL)', \n",
    "    0.05, \n",
    "    0.95\n",
    ")\n",
    "\n",
    "# This could be overkill will potentially delete\n",
    "plot_linear_regression(\n",
    "    non_smokers_at_risk_df, \n",
    "    'age', \n",
    "    'totChol', \n",
    "    'Age vs. Total Cholesterol in Non-Smokers at risk', \n",
    "    'Age',\n",
    "    'Total Cholesterol (mg/dL)', \n",
    "    0.05, \n",
    "    0.95\n",
    ")\n",
    "\n",
    "# This could be overkill will potentially delete\n",
    "plot_linear_regression(\n",
    "    non_smokers_no_risk_df, \n",
    "    'age', \n",
    "    'totChol', \n",
    "    'Age vs. Total Cholesterol in Non-Smokers no risk', \n",
    "    'Age',\n",
    "    'Total Cholesterol (mg/dL)', \n",
    "    0.05, \n",
    "    0.95\n",
    ")"
   ]
  },
  {
   "cell_type": "code",
   "execution_count": null,
   "metadata": {},
   "outputs": [],
   "source": [
    "# Scatter plot for age vs. TenYearCHD in smokers\n",
    "plot_linear_regression(\n",
    "    smoker_df, \n",
    "    'age', \n",
    "    'TenYearCHD', \n",
    "    'Age vs. Ten-Year CHD Risk in Smokers', \n",
    "    'Age',\n",
    "    'Ten-Year CHD Risk', \n",
    "    0.05, \n",
    "    0.5,\n",
    "    True\n",
    ")"
   ]
  },
  {
   "cell_type": "code",
   "execution_count": null,
   "metadata": {},
   "outputs": [],
   "source": [
    "# Scatter plot for age vs. TenYearCHD in smokers\n",
    "\n",
    "plot_linear_regression(\n",
    "    non_smokers_df, \n",
    "    'age', \n",
    "    'TenYearCHD', \n",
    "    'Age vs. Ten-Year CHD Risk in Smokers', \n",
    "    'Age',\n",
    "    'Ten-Year CHD Risk', \n",
    "    0.05, \n",
    "    0.5,\n",
    "    True\n",
    ")"
   ]
  },
  {
   "cell_type": "code",
   "execution_count": null,
   "metadata": {},
   "outputs": [],
   "source": [
    "# Can I do a t-test to show a correlation with at risk smokers and at risk non-smokers?"
   ]
  },
  {
   "cell_type": "code",
   "execution_count": null,
   "metadata": {},
   "outputs": [],
   "source": []
  },
  {
   "cell_type": "code",
   "execution_count": null,
   "metadata": {},
   "outputs": [],
   "source": []
  },
  {
   "cell_type": "code",
   "execution_count": null,
   "metadata": {},
   "outputs": [],
   "source": []
  },
  {
   "cell_type": "code",
   "execution_count": null,
   "metadata": {},
   "outputs": [],
   "source": []
  },
  {
   "cell_type": "code",
   "execution_count": null,
   "metadata": {},
   "outputs": [],
   "source": []
  },
  {
   "cell_type": "code",
   "execution_count": null,
   "metadata": {},
   "outputs": [],
   "source": []
  },
  {
   "cell_type": "code",
   "execution_count": null,
   "metadata": {},
   "outputs": [],
   "source": []
  },
  {
   "cell_type": "code",
   "execution_count": null,
   "metadata": {},
   "outputs": [],
   "source": []
  },
  {
   "cell_type": "markdown",
   "metadata": {},
   "source": [
    "## Indu's Section"
   ]
  },
  {
   "cell_type": "code",
   "execution_count": null,
   "metadata": {},
   "outputs": [],
   "source": [
    "print('This is your teammates Indu\\'s Section')"
   ]
  },
  {
   "cell_type": "code",
   "execution_count": null,
   "metadata": {},
   "outputs": [],
   "source": []
  },
  {
   "cell_type": "code",
   "execution_count": null,
   "metadata": {},
   "outputs": [],
   "source": []
  },
  {
   "cell_type": "code",
   "execution_count": null,
   "metadata": {},
   "outputs": [],
   "source": []
  },
  {
   "cell_type": "code",
   "execution_count": null,
   "metadata": {},
   "outputs": [],
   "source": []
  },
  {
   "cell_type": "code",
   "execution_count": null,
   "metadata": {},
   "outputs": [],
   "source": []
  },
  {
   "cell_type": "code",
   "execution_count": null,
   "metadata": {},
   "outputs": [],
   "source": []
  },
  {
   "cell_type": "code",
   "execution_count": null,
   "metadata": {},
   "outputs": [],
   "source": []
  },
  {
   "cell_type": "code",
   "execution_count": null,
   "metadata": {},
   "outputs": [],
   "source": []
  },
  {
   "cell_type": "code",
   "execution_count": null,
   "metadata": {},
   "outputs": [],
   "source": []
  },
  {
   "cell_type": "code",
   "execution_count": null,
   "metadata": {},
   "outputs": [],
   "source": []
  },
  {
   "cell_type": "markdown",
   "metadata": {},
   "source": [
    "## Tianyue's Section"
   ]
  },
  {
   "cell_type": "code",
   "execution_count": null,
   "metadata": {},
   "outputs": [],
   "source": [
    "print('This is your teammates Tianyue\\'s Section')"
   ]
  },
  {
   "cell_type": "code",
   "execution_count": null,
   "metadata": {},
   "outputs": [],
   "source": []
  },
  {
   "cell_type": "code",
   "execution_count": null,
   "metadata": {},
   "outputs": [],
   "source": []
  },
  {
   "cell_type": "code",
   "execution_count": null,
   "metadata": {},
   "outputs": [],
   "source": []
  },
  {
   "cell_type": "code",
   "execution_count": null,
   "metadata": {},
   "outputs": [],
   "source": []
  },
  {
   "cell_type": "code",
   "execution_count": null,
   "metadata": {},
   "outputs": [],
   "source": []
  },
  {
   "cell_type": "code",
   "execution_count": null,
   "metadata": {},
   "outputs": [],
   "source": []
  },
  {
   "cell_type": "code",
   "execution_count": null,
   "metadata": {},
   "outputs": [],
   "source": []
  },
  {
   "cell_type": "code",
   "execution_count": null,
   "metadata": {},
   "outputs": [],
   "source": []
  },
  {
   "cell_type": "code",
   "execution_count": null,
   "metadata": {},
   "outputs": [],
   "source": []
  },
  {
   "cell_type": "code",
   "execution_count": null,
   "metadata": {},
   "outputs": [],
   "source": []
  }
 ],
 "metadata": {
  "kernelspec": {
   "display_name": "dev",
   "language": "python",
   "name": "python3"
  },
  "language_info": {
   "codemirror_mode": {
    "name": "ipython",
    "version": 3
   },
   "file_extension": ".py",
   "mimetype": "text/x-python",
   "name": "python",
   "nbconvert_exporter": "python",
   "pygments_lexer": "ipython3",
   "version": "3.10.13"
  }
 },
 "nbformat": 4,
 "nbformat_minor": 2
}
